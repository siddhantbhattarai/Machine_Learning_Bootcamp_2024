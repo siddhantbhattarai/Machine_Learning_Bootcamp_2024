{
 "cells": [
  {
   "cell_type": "markdown",
   "id": "4eebade2-5af6-4708-a7a7-3c754658782e",
   "metadata": {},
   "source": [
    "### **1. Introduction to Numerical Computing**\n",
    "\n",
    "#### **What is Numerical Computing?**  \n",
    "Numerical computing involves performing mathematical calculations and data manipulations programmatically. It is essential for tasks such as scientific simulations, data analysis, and engineering computations. Unlike symbolic computation (manipulating algebraic expressions), numerical computing works with numerical approximations, making it ideal for solving real-world problems.\n",
    "\n",
    "#### **Why is NumPy Important?**  \n",
    "- **Speed:** NumPy is built on C and Fortran, offering fast performance compared to pure Python lists.  \n",
    "- **Efficiency:** It uses contiguous memory storage, leading to better memory usage and faster computation.  \n",
    "- **Functionality:** Provides mathematical operations and functions optimized for arrays, which are challenging or slow with standard Python.\n",
    "\n",
    "#### **Applications of NumPy:**  \n",
    "- **Data Science:** Efficiently handling large datasets for preprocessing and analysis.  \n",
    "- **Machine Learning:** Serving as the foundation for libraries like TensorFlow and PyTorch.  \n",
    "- **Scientific Computing:** Simulating physical processes or solving equations.  \n",
    "- **Image Processing:** Manipulating images represented as multi-dimensional arrays.\n",
    "\n",
    "---\n",
    "\n",
    "### **2. Getting Started with NumPy**\n",
    "\n",
    "#### **Installing NumPy**\n",
    "- Use Python’s package manager, `pip`, to install NumPy:\n",
    "  ```bash\n",
    "  pip install numpy\n",
    "  ```\n",
    "- Confirm the installation by running the following Python code:\n",
    "  ```python\n",
    "  import numpy as np\n",
    "  print(np.__version__)\n",
    "  ```\n",
    "This ensures NumPy is installed correctly and shows the current version.\n",
    "\n",
    "#### **Importing and Setting Up**  \n",
    "- Standard practice is to import NumPy using the alias `np`:\n",
    "  ```python\n",
    "  import numpy as np\n",
    "  ```\n",
    "This reduces typing and follows community conventions, making your code easier to read.\n",
    "\n",
    "#### **Understanding the ndarray Structure**  \n",
    "- **ndarray (N-dimensional array):** The core data structure of NumPy, representing arrays with a fixed size and homogeneous data types (all elements must be the same type, such as integers or floats).\n",
    "- **Key Features:**\n",
    "  - **Homogeneous data:** Ensures consistency in computations.\n",
    "  - **Contiguous memory layout:** Speeds up processing compared to Python lists.\n",
    "  - **Dimensionality:** Supports multi-dimensional arrays (e.g., 1D vectors, 2D matrices, 3D tensors).\n",
    "\n",
    "---\n",
    "\n",
    "### **3. Basic Operations with NumPy Arrays**\n",
    "\n",
    "#### **Creating Arrays**  \n",
    "Learn how to create arrays in different ways:\n",
    "- **From lists or tuples:**\n",
    "  ```python\n",
    "  np.array([1, 2, 3])\n",
    "  ```\n",
    "- **Pre-filled arrays:**  \n",
    "  - Zeros:\n",
    "    ```python\n",
    "    np.zeros((2, 3))  # 2 rows, 3 columns\n",
    "    ```\n",
    "  - Ones:\n",
    "    ```python\n",
    "    np.ones((3, 3))\n",
    "    ```\n",
    "  - Empty (values depend on memory state):\n",
    "    ```python\n",
    "    np.empty((2, 2))\n",
    "    ```\n",
    "- **Using sequences:**  \n",
    "  - Ranges:\n",
    "    ```python\n",
    "    np.arange(1, 10, 2)  # Start=1, Stop=10, Step=2\n",
    "    ```\n",
    "  - Linearly spaced values:\n",
    "    ```python\n",
    "    np.linspace(0, 1, 5)  # 5 values from 0 to 1\n",
    "    ```\n",
    "\n",
    "#### **Exploring Array Attributes**  \n",
    "Understand key properties of arrays:\n",
    "- **Shape:** Number of elements along each axis:\n",
    "  ```python\n",
    "  array.shape\n",
    "  ```\n",
    "- **Size:** Total number of elements:\n",
    "  ```python\n",
    "  array.size\n",
    "  ```\n",
    "- **Data type (dtype):** Type of elements (e.g., `int32`, `float64`):\n",
    "  ```python\n",
    "  array.dtype\n",
    "  ```\n",
    "- **Number of dimensions:**\n",
    "  ```python\n",
    "  array.ndim\n",
    "  ```\n",
    "- **Element size (in bytes):**\n",
    "  ```python\n",
    "  array.itemsize\n",
    "  ```\n",
    "\n",
    "#### **Indexing and Slicing Arrays**  \n",
    "Master accessing and modifying array elements:\n",
    "- **Indexing:** Access a specific element:\n",
    "  ```python\n",
    "  array[2, 3]  # Element in row 3, column 4 of a 2D array\n",
    "  ```\n",
    "- **Slicing:** Extract subarrays:\n",
    "  ```python\n",
    "  array[1:4, :2]  # Rows 2-4, Columns 1-2\n",
    "  ```\n",
    "- **Negative indexing:** Access elements from the end:\n",
    "  ```python\n",
    "  array[-1, -1]  # Last element of the last row\n",
    "  ```\n",
    "\n",
    "#### **Performing Basic Arithmetic**  \n",
    "Perform mathematical operations directly on arrays:\n",
    "- **Element-wise operations:**\n",
    "  ```python\n",
    "  array1 + array2\n",
    "  array1 - array2\n",
    "  ```\n",
    "- **Scalar operations:** Apply operations with a single value:\n",
    "  ```python\n",
    "  array * 2\n",
    "  array / 3\n",
    "  ```\n",
    "\n",
    "#### **Printing and Formatting Arrays**  \n",
    "- Display arrays with better formatting:\n",
    "  ```python\n",
    "  print(array)\n",
    "  ```\n",
    "- Customize display settings:\n",
    "  ```python\n",
    "  np.set_printoptions(precision=2, suppress=True)  # Round to 2 decimals\n",
    "  ```\n",
    "\n",
    "---\n",
    "\n",
    "### **Practical Exercises**\n",
    "\n",
    "1. **Create a 1D array:**\n",
    "   ```python\n",
    "   np.array([1, 2, 3, 4, 5])\n",
    "   ```\n",
    "\n",
    "2. **Generate a 2D array of zeros:**\n",
    "   ```python\n",
    "   np.zeros((3, 4))  # 3 rows, 4 columns\n",
    "   ```\n",
    "\n",
    "3. **Extract a subarray:**\n",
    "   - From a 3x3 matrix:\n",
    "     ```python\n",
    "     array = np.array([[1, 2, 3], [4, 5, 6], [7, 8, 9]])\n",
    "     print(array[0:2, 1:3])  # Rows 1-2, Columns 2-3\n",
    "     ```\n",
    "\n",
    "4. **Perform arithmetic operations:**\n",
    "   ```python\n",
    "   array1 = np.array([1, 2, 3])\n",
    "   array2 = np.array([4, 5, 6])\n",
    "   print(array1 + array2)  # Output: [5 7 9]\n",
    "   ```\n",
    "\n",
    "5. **Explore attributes of a 2D array:**\n",
    "   ```python\n",
    "   array = np.array([[1, 2], [3, 4], [5, 6]])\n",
    "   print(array.shape)  # (3, 2)\n",
    "   print(array.size)   # 6\n",
    "   print(array.dtype)  # int32\n",
    "   ```\n",
    "\n",
    "---\n",
    "\n",
    "### Resources for Hands-On Learning\n",
    "- **Interactive Notebook:** Practice in Jupyter Notebook or Google Colab.\n",
    "- **Recommended Reading:** NumPy documentation and beginner-friendly tutorials.\n",
    "- **Videos:** Watch NumPy introduction videos on YouTube for visual demonstrations."
   ]
  },
  {
   "cell_type": "markdown",
   "id": "1aa4758b-1814-40f9-9e6c-10f32cd53d3e",
   "metadata": {},
   "source": [
    "### **Exercise Set 1: Installing and Importing NumPy**\n",
    "\n",
    "#### **Step 1: Install NumPy**"
   ]
  },
  {
   "cell_type": "code",
   "execution_count": null,
   "id": "1660837b-b9da-4f1e-b893-af5f211a48d4",
   "metadata": {},
   "outputs": [],
   "source": [
    "!pip install numpy"
   ]
  },
  {
   "cell_type": "markdown",
   "id": "2a0de790-5cfe-4862-92da-d2603023e86f",
   "metadata": {},
   "source": [
    "#### **Step 2: Import NumPy and Check Version**"
   ]
  },
  {
   "cell_type": "code",
   "execution_count": 1,
   "id": "2f0e00e7-0547-4440-9f98-c294369e7b6d",
   "metadata": {},
   "outputs": [
    {
     "name": "stdout",
     "output_type": "stream",
     "text": [
      "NumPy version: 2.0.2\n"
     ]
    }
   ],
   "source": [
    "import numpy as np\n",
    "\n",
    "# Print version\n",
    "print(\"NumPy version:\", np.__version__)"
   ]
  },
  {
   "cell_type": "markdown",
   "id": "026d6c21-1adc-46e4-9f28-c0ee697e25f6",
   "metadata": {},
   "source": [
    "### **Exercise Set 2: Creating Arrays**\n",
    "\n",
    "#### **Exercise 2.1: Create Arrays**\n",
    "1. Create a 1D array of numbers 1 to 10."
   ]
  },
  {
   "cell_type": "code",
   "execution_count": 2,
   "id": "56a04463-d611-4a32-b121-316ea9cfc711",
   "metadata": {},
   "outputs": [
    {
     "name": "stdout",
     "output_type": "stream",
     "text": [
      "[ 1  2  3  4  5  6  7  8  9 10]\n"
     ]
    }
   ],
   "source": [
    "array1 = np.array([1, 2, 3, 4, 5, 6, 7, 8, 9, 10])\n",
    "print(array1)"
   ]
  },
  {
   "cell_type": "markdown",
   "id": "8ac46bcd-2b84-40f5-bb2b-52e922cfa687",
   "metadata": {},
   "source": [
    "2. Create a 3x3 array filled with zeros."
   ]
  },
  {
   "cell_type": "code",
   "execution_count": 3,
   "id": "c4da4614-8a08-48bc-91bc-bd19f9bfab8a",
   "metadata": {},
   "outputs": [
    {
     "name": "stdout",
     "output_type": "stream",
     "text": [
      "[[0. 0. 0.]\n",
      " [0. 0. 0.]\n",
      " [0. 0. 0.]]\n"
     ]
    }
   ],
   "source": [
    "array2 = np.zeros((3, 3))\n",
    "print(array2)"
   ]
  },
  {
   "cell_type": "markdown",
   "id": "545c1c41-726e-47a6-8241-95ca7f5d363d",
   "metadata": {},
   "source": [
    "3. Create a 2x4 array filled with ones."
   ]
  },
  {
   "cell_type": "code",
   "execution_count": 4,
   "id": "c7099468-31f9-4212-88ca-8a1f94cb7678",
   "metadata": {},
   "outputs": [
    {
     "name": "stdout",
     "output_type": "stream",
     "text": [
      "[[1. 1. 1. 1.]\n",
      " [1. 1. 1. 1.]]\n"
     ]
    }
   ],
   "source": [
    "array3 = np.ones((2, 4))\n",
    "print(array3)"
   ]
  },
  {
   "cell_type": "markdown",
   "id": "bbe1ee61-bccb-46e8-88b5-fa720e1a7879",
   "metadata": {},
   "source": [
    "4. Generate an array with numbers from 5 to 20 with a step of 3."
   ]
  },
  {
   "cell_type": "code",
   "execution_count": 5,
   "id": "02271b53-e1cb-4162-9bd8-b99fea84dd98",
   "metadata": {},
   "outputs": [
    {
     "name": "stdout",
     "output_type": "stream",
     "text": [
      "[ 5  8 11 14 17 20]\n"
     ]
    }
   ],
   "source": [
    "array4 = np.arange(5, 21, 3)\n",
    "print(array4)"
   ]
  },
  {
   "cell_type": "markdown",
   "id": "ff66a7e6-e847-4c25-8fc9-c496d66d66f6",
   "metadata": {},
   "source": [
    "5. Generate an array of 6 evenly spaced numbers between 0 and 1."
   ]
  },
  {
   "cell_type": "code",
   "execution_count": 6,
   "id": "ff2ede43-6b27-4a8d-95bd-627cb2b3efaf",
   "metadata": {},
   "outputs": [
    {
     "name": "stdout",
     "output_type": "stream",
     "text": [
      "[0.  0.2 0.4 0.6 0.8 1. ]\n"
     ]
    }
   ],
   "source": [
    "array5 = np.linspace(0, 1, 6)\n",
    "print(array5)"
   ]
  },
  {
   "cell_type": "markdown",
   "id": "bd634018-6088-47e3-8c95-cb54088dcad3",
   "metadata": {},
   "source": [
    "### **Exercise Set 3: Array Attributes**\n",
    "\n",
    "#### **Exercise 3.1: Explore Array Properties**\n",
    "Given the following array:"
   ]
  },
  {
   "cell_type": "code",
   "execution_count": 8,
   "id": "988f237a-3ad8-48d2-afb0-d41da0fe5bd9",
   "metadata": {},
   "outputs": [],
   "source": [
    "array = np.array([[1, 2, 3], [4, 5, 6], [7, 8, 9]])"
   ]
  },
  {
   "cell_type": "markdown",
   "id": "34412058-aaed-4483-98a3-d1a156d2b03e",
   "metadata": {},
   "source": [
    "1. Print the shape of the array."
   ]
  },
  {
   "cell_type": "code",
   "execution_count": 9,
   "id": "b4c09959-6e13-4466-bc63-0817203a46c2",
   "metadata": {},
   "outputs": [
    {
     "name": "stdout",
     "output_type": "stream",
     "text": [
      "Shape: (3, 3)\n"
     ]
    }
   ],
   "source": [
    "print(\"Shape:\", array.shape)"
   ]
  },
  {
   "cell_type": "markdown",
   "id": "aea2e49a-a95a-4723-9fee-5ca25bab0029",
   "metadata": {},
   "source": [
    "2. Print the number of dimensions."
   ]
  },
  {
   "cell_type": "code",
   "execution_count": 10,
   "id": "3cac7767-0f31-4ac1-abf1-d3037690dce7",
   "metadata": {},
   "outputs": [
    {
     "name": "stdout",
     "output_type": "stream",
     "text": [
      "Number of dimensions: 2\n"
     ]
    }
   ],
   "source": [
    "print(\"Number of dimensions:\", array.ndim)"
   ]
  },
  {
   "cell_type": "markdown",
   "id": "7c8b9295-2af6-4f29-bb57-98fb949968fb",
   "metadata": {},
   "source": [
    "3. Print the total number of elements."
   ]
  },
  {
   "cell_type": "code",
   "execution_count": 11,
   "id": "d78a267e-2fca-4f4a-9d15-8655b7cb395f",
   "metadata": {},
   "outputs": [
    {
     "name": "stdout",
     "output_type": "stream",
     "text": [
      "Size: 9\n"
     ]
    }
   ],
   "source": [
    "print(\"Size:\", array.size)"
   ]
  },
  {
   "cell_type": "markdown",
   "id": "a4c81ab9-2b95-4ef5-bc12-569de6e6b1ba",
   "metadata": {},
   "source": [
    "4. Print the data type of elements."
   ]
  },
  {
   "cell_type": "code",
   "execution_count": 12,
   "id": "98082c8d-5097-481e-8fd3-3c2c65406099",
   "metadata": {},
   "outputs": [
    {
     "name": "stdout",
     "output_type": "stream",
     "text": [
      "Data type: int64\n"
     ]
    }
   ],
   "source": [
    "print(\"Data type:\", array.dtype)"
   ]
  },
  {
   "cell_type": "markdown",
   "id": "69aaf36b-7db6-40be-ab7e-b69a1c0ada04",
   "metadata": {},
   "source": [
    "5. Print the size in bytes of each element."
   ]
  },
  {
   "cell_type": "code",
   "execution_count": 13,
   "id": "924890e0-65a1-40f2-bac5-3788cde02784",
   "metadata": {},
   "outputs": [
    {
     "name": "stdout",
     "output_type": "stream",
     "text": [
      "Element size (bytes): 8\n"
     ]
    }
   ],
   "source": [
    "print(\"Element size (bytes):\", array.itemsize)"
   ]
  },
  {
   "cell_type": "markdown",
   "id": "1fc5bc79-eae0-47a0-ab8e-0d45a8c093f2",
   "metadata": {},
   "source": [
    "### **Exercise Set 4: Indexing and Slicing**\n",
    "\n",
    "#### **Exercise 4.1: Access Specific Elements**\n",
    "1. Create a 3x3 array:"
   ]
  },
  {
   "cell_type": "code",
   "execution_count": 16,
   "id": "c1a4f98d-cbbc-455a-87f7-1817740c7fc9",
   "metadata": {},
   "outputs": [
    {
     "name": "stdout",
     "output_type": "stream",
     "text": [
      "[[10 20 30]\n",
      " [40 50 60]\n",
      " [70 80 90]]\n"
     ]
    }
   ],
   "source": [
    "import numpy as np\n",
    "array = np.array([[10, 20, 30], [40, 50, 60], [70, 80, 90]])\n",
    "print(array)"
   ]
  },
  {
   "cell_type": "code",
   "execution_count": 17,
   "id": "7e14d2d7-1072-4112-ab4a-6ef0ebae36c3",
   "metadata": {},
   "outputs": [
    {
     "name": "stdout",
     "output_type": "stream",
     "text": [
      "60\n"
     ]
    }
   ],
   "source": [
    "# Access the following elements:\n",
    "# Element at row 2, column 3:\n",
    "print(array[1, 2])"
   ]
  },
  {
   "cell_type": "code",
   "execution_count": 18,
   "id": "5b07d910-aca6-4660-9be9-b8f73663d6e0",
   "metadata": {},
   "outputs": [
    {
     "name": "stdout",
     "output_type": "stream",
     "text": [
      "70\n"
     ]
    }
   ],
   "source": [
    "# Element at row 3, column 1:\n",
    "print(array[2, 0])"
   ]
  },
  {
   "cell_type": "markdown",
   "id": "add3e047-648c-45ba-b237-61cf8f2669cc",
   "metadata": {},
   "source": [
    "#### **Exercise 4.2: Slice Arrays**\n",
    "1. Extract rows 1 and 2, and columns 2 and 3:"
   ]
  },
  {
   "cell_type": "code",
   "execution_count": 19,
   "id": "dd88f46f-0ec3-4a07-a792-6ad9b6f687be",
   "metadata": {},
   "outputs": [
    {
     "name": "stdout",
     "output_type": "stream",
     "text": [
      "[[20 30]\n",
      " [50 60]]\n"
     ]
    }
   ],
   "source": [
    "subarray = array[0:2, 1:3]\n",
    "print(subarray)"
   ]
  },
  {
   "cell_type": "markdown",
   "id": "3678dac7-abe4-49ef-ba29-9f7644c3bba1",
   "metadata": {},
   "source": [
    "2. Extract all elements from the last row:"
   ]
  },
  {
   "cell_type": "code",
   "execution_count": 20,
   "id": "98a71fbf-14c1-453d-9f33-3519eda843da",
   "metadata": {},
   "outputs": [
    {
     "name": "stdout",
     "output_type": "stream",
     "text": [
      "[70 80 90]\n"
     ]
    }
   ],
   "source": [
    "print(array[-1, :])"
   ]
  },
  {
   "cell_type": "markdown",
   "id": "6f60d73e-9d33-4bd3-94b4-0408b817fac6",
   "metadata": {},
   "source": [
    "3. Extract all elements from the second column:"
   ]
  },
  {
   "cell_type": "code",
   "execution_count": 21,
   "id": "14096e70-e465-4dc8-8df1-25434197f4eb",
   "metadata": {},
   "outputs": [
    {
     "name": "stdout",
     "output_type": "stream",
     "text": [
      "[20 50 80]\n"
     ]
    }
   ],
   "source": [
    "print(array[:, 1])"
   ]
  },
  {
   "cell_type": "markdown",
   "id": "5ea52b96-fd8a-4720-9397-2d72d347baf4",
   "metadata": {},
   "source": [
    "### **Exercise Set 5: Arithmetic Operations**\n",
    "\n",
    "#### **Exercise 5.1: Perform Arithmetic Operations**\n",
    "1. Create two arrays:"
   ]
  },
  {
   "cell_type": "code",
   "execution_count": 22,
   "id": "ea67ff71-d631-425f-8cec-72fef67e2c33",
   "metadata": {},
   "outputs": [],
   "source": [
    "array1 = np.array([1, 2, 3])\n",
    "array2 = np.array([4, 5, 6])"
   ]
  },
  {
   "cell_type": "code",
   "execution_count": 23,
   "id": "5cf518db-ed13-43a6-8155-f396bf217517",
   "metadata": {},
   "outputs": [
    {
     "name": "stdout",
     "output_type": "stream",
     "text": [
      "[5 7 9]\n"
     ]
    }
   ],
   "source": [
    "# Perform the following operations:\n",
    "# Add the arrays:\n",
    "print(array1 + array2)"
   ]
  },
  {
   "cell_type": "code",
   "execution_count": 24,
   "id": "1b74d773-d376-4532-8821-ea22a80af996",
   "metadata": {},
   "outputs": [
    {
     "name": "stdout",
     "output_type": "stream",
     "text": [
      "[-3 -3 -3]\n"
     ]
    }
   ],
   "source": [
    "# Subtract the arrays:\n",
    "print(array1 - array2)"
   ]
  },
  {
   "cell_type": "code",
   "execution_count": 25,
   "id": "d2de9433-713a-43f4-9347-eec1c83ffee6",
   "metadata": {},
   "outputs": [
    {
     "name": "stdout",
     "output_type": "stream",
     "text": [
      "[ 4 10 18]\n"
     ]
    }
   ],
   "source": [
    "# Multiply the arrays element-wise:\n",
    "print(array1 * array2)"
   ]
  },
  {
   "cell_type": "code",
   "execution_count": 26,
   "id": "bc4b21f9-c4dc-4bd4-bf46-df119052bbb4",
   "metadata": {},
   "outputs": [
    {
     "name": "stdout",
     "output_type": "stream",
     "text": [
      "[0.25 0.4  0.5 ]\n"
     ]
    }
   ],
   "source": [
    "# Divide the arrays element-wise:\n",
    "print(array1 / array2)"
   ]
  },
  {
   "cell_type": "markdown",
   "id": "47a77566-fa32-41a6-ace4-8aeeece7c922",
   "metadata": {},
   "source": [
    "#### **Exercise 5.2: Scalar Operations**\n",
    "1. Multiply an array by a scalar:"
   ]
  },
  {
   "cell_type": "code",
   "execution_count": 27,
   "id": "07776da2-97a3-49df-80d6-00880520caf5",
   "metadata": {},
   "outputs": [
    {
     "name": "stdout",
     "output_type": "stream",
     "text": [
      "[3 6 9]\n"
     ]
    }
   ],
   "source": [
    "print(array1 * 3)"
   ]
  },
  {
   "cell_type": "markdown",
   "id": "146a94a0-2142-4984-ba43-9cf55c530276",
   "metadata": {},
   "source": [
    "2. Add a scalar to an array:"
   ]
  },
  {
   "cell_type": "code",
   "execution_count": 28,
   "id": "d443d5b6-bbab-493a-a235-dcb72c6dea75",
   "metadata": {},
   "outputs": [
    {
     "name": "stdout",
     "output_type": "stream",
     "text": [
      "[6 7 8]\n"
     ]
    }
   ],
   "source": [
    "print(array1 + 5)"
   ]
  },
  {
   "cell_type": "markdown",
   "id": "5388ca75-7ba7-43ad-8668-769e646a68ea",
   "metadata": {},
   "source": [
    "### **Exercise Set 6: Advanced Array Creation and Formatting**\n",
    "\n",
    "#### **Exercise 6.1: Create Diagonal and Identity Matrices**\n",
    "1. Create a 4x4 identity matrix:"
   ]
  },
  {
   "cell_type": "code",
   "execution_count": 29,
   "id": "45dbaf96-869b-4c9b-a6d7-41272d4f2357",
   "metadata": {},
   "outputs": [
    {
     "name": "stdout",
     "output_type": "stream",
     "text": [
      "[[1. 0. 0. 0.]\n",
      " [0. 1. 0. 0.]\n",
      " [0. 0. 1. 0.]\n",
      " [0. 0. 0. 1.]]\n"
     ]
    }
   ],
   "source": [
    "identity_matrix = np.eye(4)\n",
    "print(identity_matrix)"
   ]
  },
  {
   "cell_type": "markdown",
   "id": "1063a665-f0ca-4604-985d-ddc0830cc7e8",
   "metadata": {},
   "source": [
    "2. Create a diagonal matrix with values `[10, 20, 30]`:"
   ]
  },
  {
   "cell_type": "code",
   "execution_count": 30,
   "id": "48aa60fd-f802-4708-b187-752a136d3977",
   "metadata": {},
   "outputs": [
    {
     "name": "stdout",
     "output_type": "stream",
     "text": [
      "[[10  0  0]\n",
      " [ 0 20  0]\n",
      " [ 0  0 30]]\n"
     ]
    }
   ],
   "source": [
    "diagonal_matrix = np.diag([10, 20, 30])\n",
    "print(diagonal_matrix)"
   ]
  },
  {
   "cell_type": "markdown",
   "id": "a1a48716-8def-436f-8173-8882fa8fe5a8",
   "metadata": {},
   "source": [
    "#### **Exercise 6.2: Control Array Print Settings**\n",
    "1. Set the precision to 3 decimal points:"
   ]
  },
  {
   "cell_type": "code",
   "execution_count": 31,
   "id": "2dbf17e2-c914-4f34-a75f-3e6381623454",
   "metadata": {},
   "outputs": [
    {
     "name": "stdout",
     "output_type": "stream",
     "text": [
      "[3.142 2.718 1.618]\n"
     ]
    }
   ],
   "source": [
    "np.set_printoptions(precision=3)\n",
    "array = np.array([3.14159, 2.71828, 1.61803])\n",
    "print(array)"
   ]
  },
  {
   "cell_type": "markdown",
   "id": "6abb7646-a710-43cb-b28c-a1a5ef2a2ab8",
   "metadata": {},
   "source": [
    "2. Suppress scientific notation:"
   ]
  },
  {
   "cell_type": "code",
   "execution_count": 32,
   "id": "96dbacdd-d665-44b2-a0ec-16de00ba62f1",
   "metadata": {},
   "outputs": [
    {
     "name": "stdout",
     "output_type": "stream",
     "text": [
      "[1.e+10 1.e-10]\n"
     ]
    }
   ],
   "source": [
    "np.set_printoptions(suppress=True)\n",
    "large_array = np.array([1e10, 1e-10])\n",
    "print(large_array)"
   ]
  },
  {
   "cell_type": "markdown",
   "id": "86b0e317-533b-4396-984a-9dfc6b421620",
   "metadata": {},
   "source": [
    "### **Challenge Exercises**\n",
    "1. Create a 4x4 random array with values between 0 and 1, then round it to 2 decimal places."
   ]
  },
  {
   "cell_type": "code",
   "execution_count": 33,
   "id": "8afbb65c-db71-40c4-9745-1713bce01c47",
   "metadata": {},
   "outputs": [
    {
     "name": "stdout",
     "output_type": "stream",
     "text": [
      "[[0.07 0.05 0.08 0.32]\n",
      " [0.04 0.99 0.92 0.54]\n",
      " [0.15 0.35 0.95 0.01]\n",
      " [0.84 0.1  0.73 0.76]]\n"
     ]
    }
   ],
   "source": [
    "random_array = np.random.random((4, 4))\n",
    "rounded_array = np.round(random_array, 2)\n",
    "print(rounded_array)"
   ]
  },
  {
   "cell_type": "markdown",
   "id": "ae4b1b5d-8f72-495e-8711-bd9d0e1cfe94",
   "metadata": {},
   "source": [
    "2. Replace the diagonal of a 5x5 matrix of ones with values `[1, 2, 3, 4, 5]`."
   ]
  },
  {
   "cell_type": "code",
   "execution_count": 34,
   "id": "e3b762c0-245e-47af-a68b-893d04560d4b",
   "metadata": {},
   "outputs": [
    {
     "name": "stdout",
     "output_type": "stream",
     "text": [
      "[[1. 1. 1. 1. 1.]\n",
      " [1. 2. 1. 1. 1.]\n",
      " [1. 1. 3. 1. 1.]\n",
      " [1. 1. 1. 4. 1.]\n",
      " [1. 1. 1. 1. 5.]]\n"
     ]
    }
   ],
   "source": [
    "matrix = np.ones((5, 5))\n",
    "np.fill_diagonal(matrix, [1, 2, 3, 4, 5])\n",
    "print(matrix)"
   ]
  },
  {
   "cell_type": "markdown",
   "id": "cb7d461b-1d27-4699-9822-5d75cbff31e8",
   "metadata": {},
   "source": [
    "3. Create a checkerboard pattern (8x8) using `0` and `1`."
   ]
  },
  {
   "cell_type": "code",
   "execution_count": 35,
   "id": "a8006a19-7aee-4255-8202-baf35e730c1e",
   "metadata": {},
   "outputs": [
    {
     "name": "stdout",
     "output_type": "stream",
     "text": [
      "[[0 1 0 1 0 1 0 1]\n",
      " [1 0 1 0 1 0 1 0]\n",
      " [0 1 0 1 0 1 0 1]\n",
      " [1 0 1 0 1 0 1 0]\n",
      " [0 1 0 1 0 1 0 1]\n",
      " [1 0 1 0 1 0 1 0]\n",
      " [0 1 0 1 0 1 0 1]\n",
      " [1 0 1 0 1 0 1 0]]\n"
     ]
    }
   ],
   "source": [
    "checkerboard = np.zeros((8, 8), dtype=int)\n",
    "checkerboard[1::2, ::2] = 1\n",
    "checkerboard[::2, 1::2] = 1\n",
    "print(checkerboard)"
   ]
  },
  {
   "cell_type": "code",
   "execution_count": null,
   "id": "474eb68f-4fdd-42a6-9a44-450ca19ae5f1",
   "metadata": {},
   "outputs": [],
   "source": []
  }
 ],
 "metadata": {
  "kernelspec": {
   "display_name": "Python 3 (ipykernel)",
   "language": "python",
   "name": "python3"
  },
  "language_info": {
   "codemirror_mode": {
    "name": "ipython",
    "version": 3
   },
   "file_extension": ".py",
   "mimetype": "text/x-python",
   "name": "python",
   "nbconvert_exporter": "python",
   "pygments_lexer": "ipython3",
   "version": "3.11.10"
  }
 },
 "nbformat": 4,
 "nbformat_minor": 5
}
