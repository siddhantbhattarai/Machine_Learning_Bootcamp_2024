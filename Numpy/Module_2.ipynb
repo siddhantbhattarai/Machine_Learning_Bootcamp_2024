{
 "cells": [
  {
   "cell_type": "markdown",
   "id": "53d79795-4f8b-4bfc-b702-aef7e7dbe1d4",
   "metadata": {},
   "source": [
    "## **Module 2: Advanced Array Operations**\n",
    "\n",
    "### **Key Learning Objectives**\n",
    "- Deepen understanding of NumPy arrays.\n",
    "- Perform reshaping, concatenation, and splitting of arrays.\n",
    "- Understand broadcasting and apply it effectively.\n",
    "- Perform advanced indexing, including boolean and fancy indexing.\n",
    "- Manipulate array shapes and dimensions.\n",
    "\n",
    "---"
   ]
  },
  {
   "cell_type": "markdown",
   "id": "bdd15e95-8c67-4489-8fd8-bd9cdb7fc3cd",
   "metadata": {},
   "source": [
    "## **Module 2: Advanced Array Operations**\n",
    "\n",
    "### **1. Reshaping Arrays**\n",
    "\n",
    "#### **Concepts to Learn**\n",
    "Reshaping is the process of changing the dimensions of an array. It’s useful when handling data in different formats, such as converting a 1D array to a matrix or vice versa.\n",
    "\n",
    "#### **Scenarios**\n",
    "- Converting a flat dataset into a grid for image processing.\n",
    "- Rearranging time-series data into windowed segments.\n",
    "\n",
    "#### **Examples**"
   ]
  },
  {
   "cell_type": "code",
   "execution_count": 3,
   "id": "b167c49c-1e5f-4a46-8a9e-be55eedbe698",
   "metadata": {},
   "outputs": [
    {
     "name": "stdout",
     "output_type": "stream",
     "text": [
      "Reshaped matrix:\n",
      " [[ 1  2  3  4]\n",
      " [ 5  6  7  8]\n",
      " [ 9 10 11 12]]\n"
     ]
    }
   ],
   "source": [
    "import numpy as np\n",
    "# Example 1: Reshaping a 1D array into a 2D matrix\n",
    "data = np.arange(1, 13)  # 1D array with 12 elements\n",
    "matrix = data.reshape(3, 4)  # Reshape to 3 rows, 4 columns\n",
    "print(\"Reshaped matrix:\\n\", matrix)"
   ]
  },
  {
   "cell_type": "code",
   "execution_count": 4,
   "id": "9d3d624c-d512-4495-af5a-f6e6a08eabaf",
   "metadata": {},
   "outputs": [
    {
     "name": "stdout",
     "output_type": "stream",
     "text": [
      "Flattened array: [ 1  2  3  4  5  6  7  8  9 10 11 12]\n"
     ]
    }
   ],
   "source": [
    "# Example 2: Flattening a matrix back to a 1D array\n",
    "flattened = matrix.flatten()\n",
    "print(\"Flattened array:\", flattened)"
   ]
  },
  {
   "cell_type": "code",
   "execution_count": 13,
   "id": "381f235f-1e4c-4ffc-b383-911b64f68652",
   "metadata": {},
   "outputs": [
    {
     "name": "stdout",
     "output_type": "stream",
     "text": [
      "Reshaped to 3D:\n",
      " [[[ 1  2]\n",
      "  [ 3  4]\n",
      "  [ 5  6]]\n",
      "\n",
      " [[ 7  8]\n",
      "  [ 9 10]\n",
      "  [11 12]]]\n"
     ]
    }
   ],
   "source": [
    "# Example 3: Reshaping to a higher dimension\n",
    "cube = data.reshape(2, 3, 2)  # 3D array\n",
    "print(\"Reshaped to 3D:\\n\", cube)"
   ]
  },
  {
   "cell_type": "markdown",
   "id": "025290fc-3660-465d-9d5a-2ff7605a04f8",
   "metadata": {},
   "source": [
    "#### **Exercises**\n",
    "1. Create a 1D array of 20 elements and reshape it into a 5x4 matrix.\n",
    "2. Convert the reshaped matrix back into a 1D array using `ravel()`.\n",
    "3. Reshape a 2D array into a 3D array for a scenario like processing image frames.\n",
    "\n",
    "---"
   ]
  },
  {
   "cell_type": "markdown",
   "id": "4d46623d-86b3-4d50-857c-4366a4d7d8be",
   "metadata": {},
   "source": [
    "### **2. Joining and Splitting Arrays**\n",
    "\n",
    "#### **Concepts to Learn**\n",
    "Joining combines multiple arrays into one, while splitting divides an array into smaller parts.\n",
    "\n",
    "#### **Scenarios**\n",
    "- Merging datasets (e.g., concatenating rows of data from two files).\n",
    "- Dividing a large dataset for parallel processing.\n",
    "\n",
    "#### **Examples**"
   ]
  },
  {
   "cell_type": "code",
   "execution_count": 14,
   "id": "df3d937b-fd5a-41bd-912a-f6054e9d433e",
   "metadata": {},
   "outputs": [
    {
     "name": "stdout",
     "output_type": "stream",
     "text": [
      "Joined array: [1 2 3 4 5 6]\n"
     ]
    }
   ],
   "source": [
    "# Joining Arrays\n",
    "array1 = np.array([1, 2, 3])\n",
    "array2 = np.array([4, 5, 6])\n",
    "joined = np.concatenate((array1, array2))\n",
    "print(\"Joined array:\", joined)"
   ]
  },
  {
   "cell_type": "code",
   "execution_count": 15,
   "id": "c056f702-0dc9-43bd-9880-40179850b97b",
   "metadata": {},
   "outputs": [
    {
     "name": "stdout",
     "output_type": "stream",
     "text": [
      "Vertically stacked:\n",
      " [[1 2]\n",
      " [3 4]\n",
      " [5 6]\n",
      " [7 8]]\n"
     ]
    }
   ],
   "source": [
    "# Vertical stacking\n",
    "matrix1 = np.array([[1, 2], [3, 4]])\n",
    "matrix2 = np.array([[5, 6], [7, 8]])\n",
    "vstacked = np.vstack((matrix1, matrix2))\n",
    "print(\"Vertically stacked:\\n\", vstacked)"
   ]
  },
  {
   "cell_type": "code",
   "execution_count": 16,
   "id": "d6be1253-9a1e-44d1-9eb7-1f7a7f7fd82c",
   "metadata": {},
   "outputs": [
    {
     "name": "stdout",
     "output_type": "stream",
     "text": [
      "Split result:\n",
      "[[ 0  1]\n",
      " [ 4  5]\n",
      " [ 8  9]\n",
      " [12 13]]\n",
      "[[ 2  3]\n",
      " [ 6  7]\n",
      " [10 11]\n",
      " [14 15]]\n"
     ]
    }
   ],
   "source": [
    "# Splitting Arrays\n",
    "matrix = np.arange(16).reshape(4, 4)  # 4x4 matrix\n",
    "split = np.hsplit(matrix, 2)  # Split into two 2x4 matrices\n",
    "print(\"Split result:\")\n",
    "for part in split:\n",
    "    print(part)"
   ]
  },
  {
   "cell_type": "markdown",
   "id": "5efd6f19-8a0d-4518-8135-fa99a29200be",
   "metadata": {},
   "source": [
    "#### **Exercises**\n",
    "1. Concatenate two 1D arrays and then reshape the result into a matrix.\n",
    "2. Split a 6x6 matrix into four 3x3 sub-matrices.\n",
    "3. Stack three 1D arrays vertically."
   ]
  },
  {
   "cell_type": "markdown",
   "id": "05756d67-2ef8-4d87-a428-52e095afb040",
   "metadata": {},
   "source": [
    "### **3. Broadcasting**\n",
    "\n",
    "#### **Concepts to Learn**\n",
    "Broadcasting allows arithmetic operations between arrays of different shapes by \"stretching\" the smaller array.\n",
    "\n",
    "#### **Scenarios**\n",
    "- Adding a constant to all pixels in an image.\n",
    "- Normalizing rows in a dataset by subtracting the mean.\n",
    "\n",
    "#### **Examples**"
   ]
  },
  {
   "cell_type": "code",
   "execution_count": 17,
   "id": "f853d701-1ffb-4cef-8952-33d9f898a67b",
   "metadata": {},
   "outputs": [
    {
     "name": "stdout",
     "output_type": "stream",
     "text": [
      "After broadcasting scalar:\n",
      " [[11 12]\n",
      " [13 14]]\n"
     ]
    }
   ],
   "source": [
    "# Example 1: Broadcasting a scalar\n",
    "matrix = np.array([[1, 2], [3, 4]])\n",
    "result = matrix + 10  # Adds 10 to all elements\n",
    "print(\"After broadcasting scalar:\\n\", result)"
   ]
  },
  {
   "cell_type": "code",
   "execution_count": 18,
   "id": "bc4f2e8d-c0cd-4522-8ce8-5e8975eedbdc",
   "metadata": {},
   "outputs": [
    {
     "name": "stdout",
     "output_type": "stream",
     "text": [
      "Row-wise broadcast:\n",
      " [[0 0]\n",
      " [2 2]]\n"
     ]
    }
   ],
   "source": [
    "# Example 2: Broadcasting a 1D array across rows\n",
    "row_means = np.array([1, 2])  # Shape (2,)\n",
    "broadcast_result = matrix - row_means\n",
    "print(\"Row-wise broadcast:\\n\", broadcast_result)"
   ]
  },
  {
   "cell_type": "code",
   "execution_count": 19,
   "id": "241b4ee4-e813-4680-920a-73d70b9cc6c3",
   "metadata": {},
   "outputs": [
    {
     "name": "stdout",
     "output_type": "stream",
     "text": [
      "Broadcasting with higher dimensions:\n",
      " [[11 21 31]\n",
      " [12 22 32]\n",
      " [13 23 33]]\n"
     ]
    }
   ],
   "source": [
    "# Example 3: Broadcasting with higher dimensions\n",
    "array1 = np.array([[1], [2], [3]])  # Shape (3, 1)\n",
    "array2 = np.array([10, 20, 30])  # Shape (3,)\n",
    "broadcast_result = array1 + array2\n",
    "print(\"Broadcasting with higher dimensions:\\n\", broadcast_result)"
   ]
  },
  {
   "cell_type": "markdown",
   "id": "290cb2b9-b6c4-4663-a767-841b280ac444",
   "metadata": {},
   "source": [
    "#### **Exercises**\n",
    "1. Add a scalar to a 2D array using broadcasting.\n",
    "2. Multiply a column vector by a row vector using broadcasting to create a matrix.\n",
    "3. Subtract the mean of each row from a 3x3 matrix using broadcasting.\n",
    "\n",
    "---"
   ]
  },
  {
   "cell_type": "markdown",
   "id": "7531aafe-efe8-456c-82a5-81982dec5f87",
   "metadata": {},
   "source": [
    "### **4. Advanced Indexing**\n",
    "\n",
    "#### **Concepts to Learn**\n",
    "- **Boolean Indexing:** Use conditions to filter elements.\n",
    "- **Fancy Indexing:** Use arrays of indices to select elements.\n",
    "\n",
    "#### **Scenarios**\n",
    "- Filtering data that meets certain conditions (e.g., values > threshold).\n",
    "- Selecting specific rows or columns.\n",
    "\n",
    "#### **Examples**"
   ]
  },
  {
   "cell_type": "code",
   "execution_count": 20,
   "id": "685019bb-826b-4deb-887a-a1ba2fc4c036",
   "metadata": {},
   "outputs": [
    {
     "name": "stdout",
     "output_type": "stream",
     "text": [
      "Filtered data: [25 30]\n",
      "Fancy indexing result: [20 90]\n"
     ]
    }
   ],
   "source": [
    "# Boolean Indexing\n",
    "data = np.array([10, 15, 20, 25, 30])\n",
    "filtered = data[data > 20]  # Select elements greater than 20\n",
    "print(\"Filtered data:\", filtered)\n",
    "\n",
    "# Fancy Indexing\n",
    "matrix = np.array([[10, 20, 30], [40, 50, 60], [70, 80, 90]])\n",
    "rows = [0, 2]\n",
    "cols = [1, 2]\n",
    "selected = matrix[rows, cols]  # Select (0, 1) and (2, 2)\n",
    "print(\"Fancy indexing result:\", selected)"
   ]
  },
  {
   "cell_type": "markdown",
   "id": "22a44b89-1b75-481d-bd39-5b4bf8a59fe1",
   "metadata": {},
   "source": [
    "#### **Exercises**\n",
    "1. Use boolean indexing to filter numbers divisible by 3 from a 1D array.\n",
    "2. Extract diagonal elements of a 4x4 matrix using fancy indexing.\n",
    "3. Use fancy indexing to select non-contiguous rows and columns from a 3x3 matrix.\n",
    "\n",
    "---"
   ]
  },
  {
   "cell_type": "markdown",
   "id": "6641629e-32d5-4115-bbab-16b845a5d01e",
   "metadata": {},
   "source": [
    "### **5. Manipulating Dimensions**\n",
    "\n",
    "#### **Concepts to Learn**\n",
    "- Adding or removing dimensions to match desired shapes.\n",
    "- Combining arrays into higher-dimensional structures.\n",
    "\n",
    "#### **Scenarios**\n",
    "- Preparing data for machine learning models (e.g., adding a batch dimension).\n",
    "- Stacking time-series data.\n",
    "\n",
    "#### **Examples**"
   ]
  },
  {
   "cell_type": "code",
   "execution_count": 21,
   "id": "886ba6c6-69a7-40bf-beac-12c57ba2fd36",
   "metadata": {},
   "outputs": [
    {
     "name": "stdout",
     "output_type": "stream",
     "text": [
      "Row vector: [[1 2 3]]\n",
      "Column vector:\n",
      " [[1]\n",
      " [2]\n",
      " [3]]\n"
     ]
    }
   ],
   "source": [
    "# Adding Dimensions\n",
    "array = np.array([1, 2, 3])\n",
    "row_vector = np.expand_dims(array, axis=0)  # Row vector\n",
    "col_vector = np.expand_dims(array, axis=1)  # Column vector\n",
    "print(\"Row vector:\", row_vector)\n",
    "print(\"Column vector:\\n\", col_vector)"
   ]
  },
  {
   "cell_type": "code",
   "execution_count": 22,
   "id": "1f7a1f0d-f115-4f58-ab65-5fd1392e0ebb",
   "metadata": {},
   "outputs": [
    {
     "name": "stdout",
     "output_type": "stream",
     "text": [
      "Squeezed array: [1 2 3]\n"
     ]
    }
   ],
   "source": [
    "# Removing Dimensions\n",
    "matrix = np.array([[[1, 2, 3]]])  # Shape (1, 1, 3)\n",
    "squeezed = np.squeeze(matrix)  # Remove size-1 dimensions\n",
    "print(\"Squeezed array:\", squeezed)"
   ]
  },
  {
   "cell_type": "code",
   "execution_count": 23,
   "id": "b38c484e-8130-472e-a979-0bd5f16808d2",
   "metadata": {},
   "outputs": [
    {
     "name": "stdout",
     "output_type": "stream",
     "text": [
      "Stacked array:\n",
      " [[1 2 3]\n",
      " [4 5 6]]\n"
     ]
    }
   ],
   "source": [
    "# Stacking\n",
    "array1 = np.array([1, 2, 3])\n",
    "array2 = np.array([4, 5, 6])\n",
    "stacked = np.stack((array1, array2), axis=0)  # Stack along a new axis\n",
    "print(\"Stacked array:\\n\", stacked)"
   ]
  },
  {
   "cell_type": "markdown",
   "id": "fa014042-48ad-411c-a47c-831449a4c3c3",
   "metadata": {},
   "source": [
    "#### **Exercises**\n",
    "1. Convert a 1D array into both row and column vectors.\n",
    "2. Create a batch of 3 images (2x2 matrices) by stacking three 2x2 matrices along a new axis.\n",
    "3. Remove singleton dimensions from a 3D array of shape `(1, 5, 1)`.\n",
    "\n",
    "---"
   ]
  },
  {
   "cell_type": "markdown",
   "id": "11c4940d-61d7-4dd2-8135-1d6785752643",
   "metadata": {},
   "source": [
    "### **Challenge Exercises**\n",
    "1. Create a 10x10 checkerboard pattern using broadcasting and slicing techniques.\n",
    "2. Generate a 4x4 matrix with random values and replace all elements greater than 0.5 with 1, and others with 0.\n",
    "3. Split a 3D array into its individual 2D planes along a specific axis."
   ]
  },
  {
   "cell_type": "code",
   "execution_count": null,
   "id": "44919b18-8cd9-40ba-973d-cd62a951950a",
   "metadata": {},
   "outputs": [],
   "source": []
  }
 ],
 "metadata": {
  "kernelspec": {
   "display_name": "Python 3 (ipykernel)",
   "language": "python",
   "name": "python3"
  },
  "language_info": {
   "codemirror_mode": {
    "name": "ipython",
    "version": 3
   },
   "file_extension": ".py",
   "mimetype": "text/x-python",
   "name": "python",
   "nbconvert_exporter": "python",
   "pygments_lexer": "ipython3",
   "version": "3.11.10"
  }
 },
 "nbformat": 4,
 "nbformat_minor": 5
}
