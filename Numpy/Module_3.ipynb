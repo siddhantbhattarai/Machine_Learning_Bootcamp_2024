{
 "cells": [
  {
   "cell_type": "markdown",
   "id": "df00c84a-32b4-4106-a2ae-08697f5547b4",
   "metadata": {},
   "source": [
    "### **Module 3: Mathematical Operations with NumPy**\n",
    "\n",
    "---\n",
    "\n",
    "### **1. Element-Wise Operations**\n",
    "\n",
    "**Description:**  \n",
    "Element-wise operations refer to performing mathematical operations between corresponding elements of arrays. This is one of the core features of NumPy, allowing fast computations without explicit loops.\n",
    "\n",
    "**Basic Arithmetic Operations:**\n",
    "\n",
    "- **Addition (`+`)**: Adds corresponding elements of two arrays.  \n",
    "- **Subtraction (`-`)**: Subtracts elements of the second array from the corresponding elements of the first array.  \n",
    "- **Multiplication (`*`)**: Multiplies corresponding elements of two arrays.  \n",
    "- **Division (`/`)**: Divides corresponding elements of the first array by the second array.\n",
    "\n",
    "**Example:**"
   ]
  },
  {
   "cell_type": "code",
   "execution_count": 1,
   "id": "f75ecfde-23cd-4176-b766-5bfa947a30a0",
   "metadata": {},
   "outputs": [
    {
     "name": "stdout",
     "output_type": "stream",
     "text": [
      "Addition: [ 6  8 10 12]\n",
      "Subtraction: [-4 -4 -4 -4]\n",
      "Multiplication: [ 5 12 21 32]\n",
      "Division: [0.2        0.33333333 0.42857143 0.5       ]\n"
     ]
    }
   ],
   "source": [
    "import numpy as np\n",
    "\n",
    "# Creating arrays\n",
    "array1 = np.array([1, 2, 3, 4])\n",
    "array2 = np.array([5, 6, 7, 8])\n",
    "\n",
    "# Arithmetic operations\n",
    "print(\"Addition:\", array1 + array2)  # [6 8 10 12]\n",
    "print(\"Subtraction:\", array1 - array2)  # [-4 -4 -4 -4]\n",
    "print(\"Multiplication:\", array1 * array2)  # [5 12 21 32]\n",
    "print(\"Division:\", array1 / array2)  # [0.2 0.33 0.43 0.5]"
   ]
  },
  {
   "cell_type": "markdown",
   "id": "69628aaf-baad-45a4-b08c-4c07840e2ef2",
   "metadata": {},
   "source": [
    "**Broadcasting and Its Rules:**\n",
    "\n",
    "**Description:**  \n",
    "Broadcasting allows NumPy to perform operations on arrays of different shapes and sizes. The smaller array is \"broadcast\" across the larger array to perform element-wise operations.\n",
    "\n",
    "**Rules of Broadcasting:**\n",
    "\n",
    "1. If arrays have different dimensions, NumPy will pad the shape with `1` from the left to match dimensions.\n",
    "2. If the dimensions do not match, but one of them is `1`, it will be stretched to match.\n",
    "3. If shapes are incompatible, an error is raised.\n",
    "\n",
    "**Example of Broadcasting:**"
   ]
  },
  {
   "cell_type": "code",
   "execution_count": 2,
   "id": "20de28df-d5b3-4fb5-8121-1b3be1fc5710",
   "metadata": {},
   "outputs": [
    {
     "name": "stdout",
     "output_type": "stream",
     "text": [
      "[[11 22 33]\n",
      " [14 25 36]]\n"
     ]
    }
   ],
   "source": [
    "# Broadcasting example\n",
    "array1 = np.array([[1, 2, 3], [4, 5, 6]])  # Shape (2, 3)\n",
    "array2 = np.array([10, 20, 30])  # Shape (3,)\n",
    "\n",
    "# Adding array2 to each row of array1\n",
    "result = array1 + array2  # Broadcasting occurs here\n",
    "print(result)  # Output: [[11 22 33], [14 25 36]]"
   ]
  },
  {
   "cell_type": "markdown",
   "id": "7d38694b-c7b9-424c-ad2a-5e00def3b821",
   "metadata": {},
   "source": [
    "### **2. Linear Algebra with NumPy**\n",
    "\n",
    "NumPy offers a variety of functions for linear algebra operations, such as matrix multiplication, determinants, and eigenvalue computations.\n",
    "\n",
    "---\n",
    "\n",
    "**Dot Product and Matrix Multiplication:**\n",
    "\n",
    "- **Dot Product**: Computes the scalar or dot product of two vectors or matrices.\n",
    "- **Matrix Multiplication (`@` or `np.dot`)**: Performs matrix multiplication following the linear algebra rules.\n",
    "\n",
    "**Example:**"
   ]
  },
  {
   "cell_type": "code",
   "execution_count": 3,
   "id": "b336793e-89da-4a96-9a7c-604b60744c38",
   "metadata": {},
   "outputs": [
    {
     "name": "stdout",
     "output_type": "stream",
     "text": [
      "Dot Product: 11\n",
      "Matrix Multiplication:\n",
      " [[19 22]\n",
      " [43 50]]\n"
     ]
    }
   ],
   "source": [
    "# Dot product of vectors\n",
    "vector1 = np.array([1, 2])\n",
    "vector2 = np.array([3, 4])\n",
    "dot_product = np.dot(vector1, vector2)  # Output: 1*3 + 2*4 = 11\n",
    "print(\"Dot Product:\", dot_product)\n",
    "\n",
    "# Matrix multiplication\n",
    "matrix1 = np.array([[1, 2], [3, 4]])\n",
    "matrix2 = np.array([[5, 6], [7, 8]])\n",
    "matrix_product = np.dot(matrix1, matrix2)\n",
    "print(\"Matrix Multiplication:\\n\", matrix_product)"
   ]
  },
  {
   "cell_type": "markdown",
   "id": "fd129afc-0112-4475-b06d-e02b85c12e1a",
   "metadata": {},
   "source": [
    "**Determinants and Inverse of Matrices:**\n",
    "\n",
    "- **Determinant (`np.linalg.det`)**: Computes the determinant of a matrix, indicating if the matrix is invertible.\n",
    "- **Inverse (`np.linalg.inv`)**: Finds the inverse of a matrix if it exists.\n",
    "\n",
    "**Example:**"
   ]
  },
  {
   "cell_type": "code",
   "execution_count": 4,
   "id": "d04365a1-3a0c-47bc-833f-c97cfbd2a10d",
   "metadata": {},
   "outputs": [
    {
     "name": "stdout",
     "output_type": "stream",
     "text": [
      "Determinant: 10.000000000000002\n",
      "Inverse Matrix:\n",
      " [[ 0.6 -0.7]\n",
      " [-0.2  0.4]]\n"
     ]
    }
   ],
   "source": [
    "matrix = np.array([[4, 7], [2, 6]])\n",
    "\n",
    "# Determinant\n",
    "det = np.linalg.det(matrix)\n",
    "print(\"Determinant:\", det)  # Output: 10.0\n",
    "\n",
    "# Inverse\n",
    "inverse_matrix = np.linalg.inv(matrix)\n",
    "print(\"Inverse Matrix:\\n\", inverse_matrix)"
   ]
  },
  {
   "cell_type": "markdown",
   "id": "80c62bdb-7447-4d8b-96e2-c6699bb14d80",
   "metadata": {},
   "source": [
    "**Eigenvalues and Eigenvectors:**\n",
    "\n",
    "Eigenvalues and eigenvectors help in understanding matrix transformations in various dimensions.\n",
    "\n",
    "- **Eigenvalues (`np.linalg.eig`)**: Scalars indicating how much the eigenvectors are scaled.\n",
    "- **Eigenvectors**: Vectors that point in the same direction after a matrix transformation.\n",
    "\n",
    "**Example:**"
   ]
  },
  {
   "cell_type": "code",
   "execution_count": 5,
   "id": "774ad584-bd34-4b74-9e97-d0d115e4532d",
   "metadata": {},
   "outputs": [
    {
     "name": "stdout",
     "output_type": "stream",
     "text": [
      "Eigenvalues: [3. 1.]\n",
      "Eigenvectors:\n",
      " [[ 0.70710678 -0.70710678]\n",
      " [ 0.70710678  0.70710678]]\n"
     ]
    }
   ],
   "source": [
    "matrix = np.array([[2, 1], [1, 2]])\n",
    "\n",
    "# Eigenvalues and eigenvectors\n",
    "eigenvalues, eigenvectors = np.linalg.eig(matrix)\n",
    "print(\"Eigenvalues:\", eigenvalues)\n",
    "print(\"Eigenvectors:\\n\", eigenvectors)"
   ]
  },
  {
   "cell_type": "markdown",
   "id": "28067e02-4a4e-465f-b0de-6162ffb29641",
   "metadata": {},
   "source": [
    "### **3. Statistical and Mathematical Functions**\n",
    "\n",
    "---\n",
    "\n",
    "**Mean, Median, Standard Deviation:**\n",
    "\n",
    "- **Mean (`np.mean`)**: Average value of the elements.\n",
    "- **Median (`np.median`)**: Middle value in sorted data.\n",
    "- **Standard Deviation (`np.std`)**: Measure of the spread of values.\n",
    "\n",
    "**Example:**"
   ]
  },
  {
   "cell_type": "code",
   "execution_count": 6,
   "id": "d05ad79d-2507-4db9-8e8e-7c0d457a2db7",
   "metadata": {},
   "outputs": [
    {
     "name": "stdout",
     "output_type": "stream",
     "text": [
      "Mean: 30.0\n",
      "Median: 30.0\n",
      "Standard Deviation: 14.142135623730951\n"
     ]
    }
   ],
   "source": [
    "data = np.array([10, 20, 30, 40, 50])\n",
    "\n",
    "mean_value = np.mean(data)  # 30.0\n",
    "median_value = np.median(data)  # 30.0\n",
    "std_dev = np.std(data)  # 14.14\n",
    "\n",
    "print(\"Mean:\", mean_value)\n",
    "print(\"Median:\", median_value)\n",
    "print(\"Standard Deviation:\", std_dev)"
   ]
  },
  {
   "cell_type": "markdown",
   "id": "1be1a34f-d08f-4ed7-af23-b51ae812a74f",
   "metadata": {},
   "source": [
    "**Trigonometric and Exponential Functions:**\n",
    "\n",
    "NumPy supports a variety of trigonometric (`sin`, `cos`, `tan`) and exponential functions.\n",
    "\n",
    "**Example:**"
   ]
  },
  {
   "cell_type": "code",
   "execution_count": 7,
   "id": "327cf213-9ff0-4887-8f17-b6d77d4a553e",
   "metadata": {},
   "outputs": [
    {
     "name": "stdout",
     "output_type": "stream",
     "text": [
      "Sin: [0.0000000e+00 1.0000000e+00 1.2246468e-16]\n",
      "Cos: [ 1.000000e+00  6.123234e-17 -1.000000e+00]\n",
      "Tan: [ 0.00000000e+00  1.63312394e+16 -1.22464680e-16]\n",
      "Exponential: [ 2.71828183  7.3890561  20.08553692]\n",
      "Logarithm: [0.         0.69314718 1.09861229]\n"
     ]
    }
   ],
   "source": [
    "angles = np.array([0, np.pi/2, np.pi])\n",
    "\n",
    "# Trigonometric functions\n",
    "print(\"Sin:\", np.sin(angles))  # [0, 1, 0]\n",
    "print(\"Cos:\", np.cos(angles))  # [1, 0, -1]\n",
    "print(\"Tan:\", np.tan(angles))  # [0, Undefined, 0]\n",
    "\n",
    "# Exponential and logarithmic functions\n",
    "array = np.array([1, 2, 3])\n",
    "print(\"Exponential:\", np.exp(array))  # [e^1, e^2, e^3]\n",
    "print(\"Logarithm:\", np.log(array))  # [ln(1), ln(2), ln(3)]"
   ]
  },
  {
   "cell_type": "markdown",
   "id": "49e6ffbf-5425-4ce9-8572-f7bc53153c68",
   "metadata": {},
   "source": [
    "**Histograms and Binning:**\n",
    "\n",
    "Histograms visualize the frequency distribution of numerical data. Binning groups the data into intervals.\n",
    "\n",
    "**Example:**"
   ]
  },
  {
   "cell_type": "code",
   "execution_count": 8,
   "id": "6412097f-5ef5-4bda-a026-cc92b6b73d57",
   "metadata": {},
   "outputs": [
    {
     "data": {
      "image/png": "[encoded data removed]",
      "text/plain": [
       "<Figure size 640x480 with 1 Axes>"
      ]
     },
     "metadata": {},
     "output_type": "display_data"
    }
   ],
   "source": [
    "import matplotlib.pyplot as plt\n",
    "\n",
    "data = np.random.randn(1000)  # Randomly generated data\n",
    "\n",
    "# Creating histogram\n",
    "plt.hist(data, bins=20, color='skyblue', edgecolor='black')\n",
    "plt.title(\"Histogram of Random Data\")\n",
    "plt.xlabel(\"Value Range\")\n",
    "plt.ylabel(\"Frequency\")\n",
    "plt.show()"
   ]
  },
  {
   "cell_type": "markdown",
   "id": "466efe52-4090-42c0-9354-9e055386bf6e",
   "metadata": {},
   "source": [
    "Here are **additional exercises** for each topic in **Module 3: Mathematical Operations with NumPy** to help you reinforce your understanding.\n",
    "\n",
    "---\n",
    "\n",
    "## **1. Element-Wise Operations**\n",
    "\n",
    "### **Exercise 1: Basic Arithmetic Operations**\n",
    "\n",
    "- Create two NumPy arrays: `arr1 = [10, 20, 30, 40, 50]` and `arr2 = [1, 2, 3, 4, 5]`.\n",
    "  1. Add `arr1` and `arr2` element-wise.\n",
    "  2. Subtract `arr2` from `arr1`.\n",
    "  3. Multiply `arr1` and `arr2`.\n",
    "  4. Divide `arr1` by `arr2`.\n",
    "\n",
    "---\n",
    "\n",
    "### **Exercise 2: Broadcasting**\n",
    "\n",
    "- Given the following arrays:\n",
    "  ```python\n",
    "  arr1 = np.array([[2, 4, 6], [8, 10, 12]])\n",
    "  arr2 = np.array([1, 2, 3])\n",
    "  ```\n",
    "  1. Perform element-wise addition of `arr1` and `arr2` (broadcast `arr2`).\n",
    "  2. Multiply `arr1` by 5 using broadcasting.\n",
    "  3. Subtract the average of `arr1` (broadcasted) from each element.\n",
    "\n",
    "---\n",
    "\n",
    "## **2. Linear Algebra with NumPy**\n",
    "\n",
    "### **Exercise 3: Dot Product**\n",
    "\n",
    "- Create two 2D arrays:\n",
    "  ```python\n",
    "  A = np.array([[1, 2], [3, 4]])\n",
    "  B = np.array([[5, 6], [7, 8]])\n",
    "  ```\n",
    "  1. Compute the dot product of matrices `A` and `B`.\n",
    "  2. Verify the dot product by calculating each element manually.\n",
    "\n",
    "---\n",
    "\n",
    "### **Exercise 4: Matrix Multiplication**\n",
    "\n",
    "- Create a 3x3 identity matrix (`I`) and another matrix `C = [[3, 4, 5], [6, 7, 8], [9, 10, 11]]`.\n",
    "  1. Perform matrix multiplication: `I @ C`.\n",
    "  2. Verify if multiplying `C` by the identity matrix gives the same result.\n",
    "\n",
    "---\n",
    "\n",
    "### **Exercise 5: Determinant and Inverse**\n",
    "\n",
    "- Create the matrix:\n",
    "  ```python\n",
    "  D = np.array([[4, 7], [2, 6]])\n",
    "  ```\n",
    "  1. Calculate the determinant of matrix `D`.\n",
    "  2. If the determinant is non-zero, compute the inverse of `D`.\n",
    "  3. Verify that multiplying `D` and its inverse results in an identity matrix.\n",
    "\n",
    "---\n",
    "\n",
    "### **Exercise 6: Eigenvalues and Eigenvectors**\n",
    "\n",
    "- For the matrix:\n",
    "  ```python\n",
    "  E = np.array([[2, -1], [-1, 2]])\n",
    "  ```\n",
    "  1. Calculate the eigenvalues and eigenvectors.\n",
    "  2. Verify the result by checking if `A * v = λ * v` for each eigenvalue `λ` and eigenvector `v`.\n",
    "\n",
    "---\n",
    "\n",
    "## **3. Statistical and Mathematical Functions**\n",
    "\n",
    "### **Exercise 7: Mean, Median, and Standard Deviation**\n",
    "\n",
    "- Create a dataset representing the monthly sales of a store:\n",
    "  ```python\n",
    "  sales_data = np.array([2500, 2700, 2900, 3100, 3300, 3500, 3700, 3900, 4100, 4300, 4500, 4700])\n",
    "  ```\n",
    "  1. Calculate the mean and median of sales.\n",
    "  2. Calculate the standard deviation to understand the variation in sales.\n",
    "  3. Normalize the sales data by subtracting the mean and dividing by the standard deviation.\n",
    "\n",
    "---\n",
    "\n",
    "### **Exercise 8: Trigonometric Functions**\n",
    "\n",
    "- Given an array of angles (in degrees):\n",
    "  ```python\n",
    "  angles_deg = np.array([0, 30, 45, 60, 90])\n",
    "  ```\n",
    "  1. Convert the angles to radians using `np.radians()`.\n",
    "  2. Compute the sine, cosine, and tangent of each angle.\n",
    "  3. Plot the sine, cosine, and tangent functions on a graph.\n",
    "\n",
    "---\n",
    "\n",
    "### **Exercise 9: Exponential and Logarithmic Functions**\n",
    "\n",
    "- Create an array `values = np.array([1, 2, 4, 10, 100])`.\n",
    "  1. Compute the exponential of each value.\n",
    "  2. Compute the natural logarithm (`log`) and base-10 logarithm (`log10`) of each value.\n",
    "  3. What happens if you pass `0` to the logarithm function? Explain the result.\n",
    "\n",
    "---\n",
    "\n",
    "### **Exercise 10: Histograms and Binning**\n",
    "\n",
    "- Generate 500 random numbers following a normal distribution with a mean of `50` and a standard deviation of `10`:\n",
    "  ```python\n",
    "  random_data = np.random.normal(50, 10, 500)\n",
    "  ```\n",
    "  1. Create a histogram of the data using 10 bins.\n",
    "  2. Label the x-axis as \"Value\" and y-axis as \"Frequency\".\n",
    "  3. Plot a vertical line at the mean of the distribution on the histogram.\n",
    "\n",
    "---\n",
    "\n",
    "## **Challenge Exercise: Comprehensive Task**\n",
    "\n",
    "**Task: Analysis of Student Grades**\n",
    "\n",
    "- You are given the grades of 1000 students in a subject (randomly generated between 0 and 100):\n",
    "  ```python\n",
    "  grades = np.random.randint(0, 101, 1000)\n",
    "  ```\n",
    "  1. Calculate the mean, median, and standard deviation of the grades.\n",
    "  2. Plot a histogram of the grades with 20 bins.\n",
    "  3. Identify the percentage of students scoring above 85.\n",
    "  4. Normalize the grades and create a scatter plot showing the original vs normalized grades.\n",
    "\n",
    "---\n",
    "\n",
    "These exercises offer a variety of tasks that help practice key operations in **NumPy**, ranging from element-wise arithmetic to linear algebra, trigonometric functions, and statistical analysis."
   ]
  },
  {
   "cell_type": "code",
   "execution_count": null,
   "id": "2f905e5d-8c50-4980-934a-8806c2a8e7bd",
   "metadata": {},
   "outputs": [],
   "source": []
  }
 ],
 "metadata": {
  "kernelspec": {
   "display_name": "Python 3 (ipykernel)",
   "language": "python",
   "name": "python3"
  },
  "language_info": {
   "codemirror_mode": {
    "name": "ipython",
    "version": 3
   },
   "file_extension": ".py",
   "mimetype": "text/x-python",
   "name": "python",
   "nbconvert_exporter": "python",
   "pygments_lexer": "ipython3",
   "version": "3.11.10"
  }
 },
 "nbformat": 4,
 "nbformat_minor": 5
}
