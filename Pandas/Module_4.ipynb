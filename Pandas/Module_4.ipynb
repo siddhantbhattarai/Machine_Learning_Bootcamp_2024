{
 "cells": [
  {
   "cell_type": "markdown",
   "id": "42b253ae-caaf-4176-ace8-be627a7fad84",
   "metadata": {},
   "source": [
    "### **Module 4: Merging, Joining, and Concatenating Data**\n",
    "In machine learning and AI workflows, merging multiple datasets is a common task. This module teaches students how to combine datasets in Pandas.\n",
    "\n",
    "#### **Topics:**\n",
    "- **Concatenation:**\n",
    "  - Stacking datasets on top of each other using `concat()`.\n",
    "  \n",
    "- **Merging:**\n",
    "  - Combining datasets using `merge()` (similar to SQL joins: inner, outer, left, and right joins).\n",
    "  \n",
    "- **Joining DataFrames:**\n",
    "  - Combining datasets using the `join()` method.\n",
    "\n",
    "#### **Hands-on Lab:**\n",
    "- Combine two datasets using `merge()` and explore different types of joins (inner, outer, etc.).\n",
    "- Concatenate datasets vertically or horizontally using `concat()`.\n",
    "\n",
    "---"
   ]
  },
  {
   "cell_type": "markdown",
   "id": "e46e07bc-b6e2-43e6-bbb0-30786196280c",
   "metadata": {},
   "source": [
    "### **Concatenation:**\n",
    "\n",
    "Concatenation is used when stacking datasets either **vertically (row-wise)** or **horizontally (column-wise)**.\n",
    "\n",
    "1. **Real-World Example 1 - Vertically Concatenating Sales Data from Multiple Regions:**"
   ]
  },
  {
   "cell_type": "code",
   "execution_count": 2,
   "id": "62d1062f-aa4f-428b-92c9-19424e6ea537",
   "metadata": {},
   "outputs": [
    {
     "name": "stdout",
     "output_type": "stream",
     "text": [
      "  Month  Sales_A  Sales_B\n",
      "0   Jan  20000.0      NaN\n",
      "1   Feb  25000.0      NaN\n",
      "2   Mar  22000.0      NaN\n",
      "3   Jan      NaN  18000.0\n",
      "4   Feb      NaN  24000.0\n",
      "5   Mar      NaN  21000.0\n"
     ]
    }
   ],
   "source": [
    "import pandas as pd\n",
    "\n",
    "# Sales data for Region A and Region B\n",
    "region_a = pd.DataFrame({\n",
    "    'Month': ['Jan', 'Feb', 'Mar'],\n",
    "    'Sales_A': [20000, 25000, 22000]\n",
    "})\n",
    "\n",
    "region_b = pd.DataFrame({\n",
    "    'Month': ['Jan', 'Feb', 'Mar'],\n",
    "    'Sales_B': [18000, 24000, 21000]\n",
    "})\n",
    "\n",
    "# Concatenate vertically (stacking)\n",
    "combined_sales = pd.concat([region_a, region_b], ignore_index=True)\n",
    "print(combined_sales)"
   ]
  },
  {
   "cell_type": "markdown",
   "id": "5c622dd9-80c3-4f57-8f3c-d82bdedf4b2b",
   "metadata": {},
   "source": [
    "**Use Case:** In global sales dashboards, concatenating monthly or regional sales data for better aggregation."
   ]
  },
  {
   "cell_type": "markdown",
   "id": "1d1ac86d-8dee-4f12-92f1-a2ddb1cb994c",
   "metadata": {},
   "source": [
    "2. **Real-World Example 2 - Horizontal Concatenation of User Profile Data:**"
   ]
  },
  {
   "cell_type": "code",
   "execution_count": 3,
   "id": "23191d9c-a7fe-4709-8ae7-c3028b716e3f",
   "metadata": {},
   "outputs": [
    {
     "name": "stdout",
     "output_type": "stream",
     "text": [
      "     User_ID     Name  Last_Login\n",
      "0      101.0    Alice         NaN\n",
      "1      102.0      Bob         NaN\n",
      "2      103.0  Charlie         NaN\n",
      "101      NaN      NaN  2025-01-01\n",
      "102      NaN      NaN  2025-01-10\n",
      "103      NaN      NaN  2025-01-12\n"
     ]
    }
   ],
   "source": [
    "user_info = pd.DataFrame({\n",
    "    'User_ID': [101, 102, 103],\n",
    "    'Name': ['Alice', 'Bob', 'Charlie']\n",
    "})\n",
    "\n",
    "user_activity = pd.DataFrame({\n",
    "    'User_ID': [101, 102, 103],\n",
    "    'Last_Login': ['2025-01-01', '2025-01-10', '2025-01-12']\n",
    "})\n",
    "\n",
    "# Concatenate horizontally\n",
    "user_data = pd.concat([user_info, user_activity.set_index('User_ID')], axis=1)\n",
    "print(user_data)"
   ]
  },
  {
   "cell_type": "markdown",
   "id": "a5182df4-d2b4-4dcd-b90c-3a0429151466",
   "metadata": {},
   "source": [
    "**Use Case:** Merging profile and activity logs for user analytics."
   ]
  },
  {
   "cell_type": "markdown",
   "id": "3a46787b-09e2-469c-9c92-fb0323fb6445",
   "metadata": {},
   "source": [
    "3. **Real-World Example 3 - Concatenating Data for Time Series Analysis:**"
   ]
  },
  {
   "cell_type": "code",
   "execution_count": 4,
   "id": "2c8c63f2-c4ae-4049-af2e-035717f26464",
   "metadata": {},
   "outputs": [
    {
     "name": "stdout",
     "output_type": "stream",
     "text": [
      "         Date  Revenue\n",
      "0  2025-01-01     5000\n",
      "1  2025-01-02     7000\n",
      "0  2025-02-01     8000\n",
      "1  2025-02-02     9000\n"
     ]
    }
   ],
   "source": [
    "jan_data = pd.DataFrame({'Date': ['2025-01-01', '2025-01-02'], 'Revenue': [5000, 7000]})\n",
    "feb_data = pd.DataFrame({'Date': ['2025-02-01', '2025-02-02'], 'Revenue': [8000, 9000]})\n",
    "\n",
    "# Concatenate time-series data\n",
    "time_series_data = pd.concat([jan_data, feb_data])\n",
    "print(time_series_data)"
   ]
  },
  {
   "cell_type": "markdown",
   "id": "552cdc23-9185-48b6-a136-9048211fad3d",
   "metadata": {},
   "source": [
    "**Use Case:** Combining revenue data from different months for financial forecasting."
   ]
  },
  {
   "cell_type": "markdown",
   "id": "681d913f-7ee3-45e9-ac4b-33b47151df9a",
   "metadata": {},
   "source": [
    "### **Merging (SQL-style Joins)**\n",
    "\n",
    "`merge()` is used to **combine DataFrames** based on common **keys/columns**.\n",
    "\n",
    "1. **Real-World Example 1 - Inner Join of Order and Customer Data:**"
   ]
  },
  {
   "cell_type": "code",
   "execution_count": 5,
   "id": "bc0412de-08f2-4df1-a1a6-41c4ea8c244b",
   "metadata": {},
   "outputs": [
    {
     "name": "stdout",
     "output_type": "stream",
     "text": [
      "   Order_ID  Customer_ID  Amount Customer_Name\n",
      "0         1          101     250         Alice\n",
      "1         2          102     300           Bob\n"
     ]
    }
   ],
   "source": [
    "orders = pd.DataFrame({\n",
    "    'Order_ID': [1, 2, 3],\n",
    "    'Customer_ID': [101, 102, 103],\n",
    "    'Amount': [250, 300, 150]\n",
    "})\n",
    "\n",
    "customers = pd.DataFrame({\n",
    "    'Customer_ID': [101, 102, 104],\n",
    "    'Customer_Name': ['Alice', 'Bob', 'David']\n",
    "})\n",
    "\n",
    "merged_data = pd.merge(orders, customers, on='Customer_ID', how='inner')\n",
    "print(merged_data)"
   ]
  },
  {
   "cell_type": "markdown",
   "id": "0036c83d-1763-424b-aa77-c9bbb5798d04",
   "metadata": {},
   "source": [
    "- **Output:** Only customers who placed orders are shown (`inner join`).\n",
    "- **Use Case:** Generating reports for customers who completed transactions."
   ]
  },
  {
   "cell_type": "markdown",
   "id": "8adedc47-fa90-4039-a0a8-d6487986c4c4",
   "metadata": {},
   "source": [
    "2. **Real-World Example 2 - Outer Join (Missing Data for Product Inventory):**"
   ]
  },
  {
   "cell_type": "code",
   "execution_count": 6,
   "id": "84b4b144-d6f0-4c50-9919-ddbbe6c20aaf",
   "metadata": {},
   "outputs": [
    {
     "name": "stdout",
     "output_type": "stream",
     "text": [
      "   Product_ID Product_Name  Stock_Available\n",
      "0           1       Laptop             50.0\n",
      "1           2        Phone              NaN\n",
      "2           3       Tablet             30.0\n"
     ]
    }
   ],
   "source": [
    "products = pd.DataFrame({\n",
    "    'Product_ID': [1, 2, 3],\n",
    "    'Product_Name': ['Laptop', 'Phone', 'Tablet']\n",
    "})\n",
    "\n",
    "inventory = pd.DataFrame({\n",
    "    'Product_ID': [1, 3],\n",
    "    'Stock_Available': [50, 30]\n",
    "})\n",
    "\n",
    "product_inventory = pd.merge(products, inventory, on='Product_ID', how='outer')\n",
    "print(product_inventory)"
   ]
  },
  {
   "cell_type": "markdown",
   "id": "fd8762e5-1532-4929-ac81-c0947b58bc82",
   "metadata": {},
   "source": [
    "**Use Case:** Identifying missing stock levels for certain products."
   ]
  },
  {
   "cell_type": "markdown",
   "id": "4714d572-ed33-428e-a581-a77bcec4f145",
   "metadata": {},
   "source": [
    "3. **Real-World Example 3 - Left Join (Joining Employee Details with Salary):**"
   ]
  },
  {
   "cell_type": "code",
   "execution_count": 7,
   "id": "24af664b-abd8-4497-92d9-46c6226f882e",
   "metadata": {},
   "outputs": [
    {
     "name": "stdout",
     "output_type": "stream",
     "text": [
      "   Employee_ID Employee_Name   Salary\n",
      "0            1          John  70000.0\n",
      "1            2          Anna  80000.0\n",
      "2            3         Steve      NaN\n"
     ]
    }
   ],
   "source": [
    "employees = pd.DataFrame({\n",
    "    'Employee_ID': [1, 2, 3],\n",
    "    'Employee_Name': ['John', 'Anna', 'Steve']\n",
    "})\n",
    "\n",
    "salaries = pd.DataFrame({\n",
    "    'Employee_ID': [1, 2],\n",
    "    'Salary': [70000, 80000]\n",
    "})\n",
    "\n",
    "employee_salary = pd.merge(employees, salaries, on='Employee_ID', how='left')\n",
    "print(employee_salary)"
   ]
  },
  {
   "cell_type": "markdown",
   "id": "6a9e028d-e9d0-4df4-a3f6-22cd8870155a",
   "metadata": {},
   "source": [
    "**Use Case:** Displaying all employees even if they have missing salary data."
   ]
  },
  {
   "cell_type": "markdown",
   "id": "7f8f4a44-7315-4858-a228-64a571bc0873",
   "metadata": {},
   "source": [
    "### **Join Method (`join()`):**\n",
    "\n",
    "`join()` is typically used when joining DataFrames by their **index**.\n",
    "\n",
    "1. **Real-World Example 1 - Joining City Data by Indices:**"
   ]
  },
  {
   "cell_type": "code",
   "execution_count": 8,
   "id": "3dbb92ab-f5ab-4a45-bf1c-6ebc8d289baf",
   "metadata": {},
   "outputs": [
    {
     "name": "stdout",
     "output_type": "stream",
     "text": [
      "          City  Population City_Code\n",
      "0     New York     8500000        NY\n",
      "1  Los Angeles     4000000        LA\n",
      "2      Chicago     2700000       CHI\n"
     ]
    }
   ],
   "source": [
    "city_population = pd.DataFrame({'City': ['New York', 'Los Angeles', 'Chicago'], 'Population': [8500000, 4000000, 2700000]})\n",
    "city_codes = pd.DataFrame({'City_Code': ['NY', 'LA', 'CHI']}, index=[0, 1, 2])\n",
    "\n",
    "combined_cities = city_population.join(city_codes)\n",
    "print(combined_cities)"
   ]
  },
  {
   "cell_type": "markdown",
   "id": "22e7e8b7-83c9-41d9-a079-2ef492de42e9",
   "metadata": {},
   "source": [
    "**Use Case:** Creating a mapping of city codes for geo-location purposes."
   ]
  },
  {
   "cell_type": "markdown",
   "id": "f5855e3a-13ed-40a0-a516-a299d59638f8",
   "metadata": {},
   "source": [
    "2. **Real-World Example 2 - Joining Financial Metrics by Index:**"
   ]
  },
  {
   "cell_type": "code",
   "execution_count": 10,
   "id": "e62e6b93-96f0-4558-a70c-769961a95a28",
   "metadata": {},
   "outputs": [
    {
     "name": "stdout",
     "output_type": "stream",
     "text": [
      "            Revenue  Expenses\n",
      "2025-01-01     5000      2000\n",
      "2025-01-02     7000      3000\n",
      "2025-01-03     8000      2500\n"
     ]
    }
   ],
   "source": [
    "revenue = pd.DataFrame({'Revenue': [5000, 7000, 8000]}, index=['2025-01-01', '2025-01-02', '2025-01-03'])\n",
    "expenses = pd.DataFrame({'Expenses': [2000, 3000, 2500]}, index=['2025-01-01', '2025-01-02', '2025-01-03'])\n",
    "\n",
    "financials = revenue.join(expenses)\n",
    "print(financials)"
   ]
  },
  {
   "cell_type": "markdown",
   "id": "1d190ec1-5547-4ad3-840f-7298055d93ac",
   "metadata": {},
   "source": [
    "**Use Case:** Consolidating financial metrics for budget analysis."
   ]
  },
  {
   "cell_type": "markdown",
   "id": "cefc1dc7-2aea-4c5d-a9f2-921d05913fb2",
   "metadata": {},
   "source": [
    "### **Additional Real-World Scenarios:**\n",
    "\n",
    "1. **Merging Survey Results Across Different Platforms:**\n",
    "\n",
    "   Combine survey responses from `Google Forms`, `Typeform`, and `SurveyMonkey`:"
   ]
  },
  {
   "cell_type": "code",
   "execution_count": 11,
   "id": "9edd0c92-71e0-4a65-a9ce-edae0b1fb0cd",
   "metadata": {},
   "outputs": [
    {
     "name": "stdout",
     "output_type": "stream",
     "text": [
      "  User  Rating Comments\n",
      "0    A       4    Great\n",
      "1    B       5     Good\n",
      "2    C       3      NaN\n"
     ]
    }
   ],
   "source": [
    "google_forms = pd.DataFrame({'User': ['A', 'B', 'C'], 'Rating': [4, 5, 3]})\n",
    "typeform = pd.DataFrame({'User': ['A', 'B'], 'Comments': ['Great', 'Good']})\n",
    "\n",
    "survey_data = pd.merge(google_forms, typeform, on='User', how='outer')\n",
    "print(survey_data)"
   ]
  },
  {
   "cell_type": "markdown",
   "id": "15205e92-9371-4d61-82d4-c7283c1e254e",
   "metadata": {},
   "source": [
    "2. **Combining Product Review Datasets with Concatenation and Merging:**\n",
    "\n",
    "   If `Amazon`, `Flipkart`, and `eBay` provide separate CSV datasets, you can concatenate them vertically:"
   ]
  },
  {
   "cell_type": "code",
   "execution_count": 15,
   "id": "94dcd4f0-61e0-4d28-9fff-5c0a5666169c",
   "metadata": {},
   "outputs": [
    {
     "data": {
      "text/html": [
       "<div>\n",
       "<style scoped>\n",
       "    .dataframe tbody tr th:only-of-type {\n",
       "        vertical-align: middle;\n",
       "    }\n",
       "\n",
       "    .dataframe tbody tr th {\n",
       "        vertical-align: top;\n",
       "    }\n",
       "\n",
       "    .dataframe thead th {\n",
       "        text-align: right;\n",
       "    }\n",
       "</style>\n",
       "<table border=\"1\" class=\"dataframe\">\n",
       "  <thead>\n",
       "    <tr style=\"text-align: right;\">\n",
       "      <th></th>\n",
       "      <th>Review</th>\n",
       "      <th>Source</th>\n",
       "    </tr>\n",
       "  </thead>\n",
       "  <tbody>\n",
       "    <tr>\n",
       "      <th>0</th>\n",
       "      <td>Good</td>\n",
       "      <td>Amazon</td>\n",
       "    </tr>\n",
       "    <tr>\n",
       "      <th>1</th>\n",
       "      <td>Bad</td>\n",
       "      <td>Amazon</td>\n",
       "    </tr>\n",
       "    <tr>\n",
       "      <th>0</th>\n",
       "      <td>Average</td>\n",
       "      <td>Flipkart</td>\n",
       "    </tr>\n",
       "  </tbody>\n",
       "</table>\n",
       "</div>"
      ],
      "text/plain": [
       "    Review    Source\n",
       "0     Good    Amazon\n",
       "1      Bad    Amazon\n",
       "0  Average  Flipkart"
      ]
     },
     "metadata": {},
     "output_type": "display_data"
    }
   ],
   "source": [
    "amazon_reviews = pd.DataFrame({'Review': ['Good', 'Bad'], 'Source': ['Amazon', 'Amazon']})\n",
    "flipkart_reviews = pd.DataFrame({'Review': ['Average'], 'Source': ['Flipkart']})\n",
    "\n",
    "all_reviews = pd.concat([amazon_reviews, flipkart_reviews])\n",
    "display(all_reviews)"
   ]
  },
  {
   "cell_type": "markdown",
   "id": "0dbdbfcf-abba-4070-a7e3-04fdc9f25aed",
   "metadata": {},
   "source": [
    "3. **Merging Customer Demographic Data and Purchase Data for Analytics:**"
   ]
  },
  {
   "cell_type": "code",
   "execution_count": 16,
   "id": "28a243e2-ab8a-42bb-a617-63bf0b55fe4d",
   "metadata": {},
   "outputs": [
    {
     "data": {
      "text/html": [
       "<div>\n",
       "<style scoped>\n",
       "    .dataframe tbody tr th:only-of-type {\n",
       "        vertical-align: middle;\n",
       "    }\n",
       "\n",
       "    .dataframe tbody tr th {\n",
       "        vertical-align: top;\n",
       "    }\n",
       "\n",
       "    .dataframe thead th {\n",
       "        text-align: right;\n",
       "    }\n",
       "</style>\n",
       "<table border=\"1\" class=\"dataframe\">\n",
       "  <thead>\n",
       "    <tr style=\"text-align: right;\">\n",
       "      <th></th>\n",
       "      <th>Customer_ID</th>\n",
       "      <th>Age</th>\n",
       "      <th>Purchase_Amount</th>\n",
       "    </tr>\n",
       "  </thead>\n",
       "  <tbody>\n",
       "    <tr>\n",
       "      <th>0</th>\n",
       "      <td>101</td>\n",
       "      <td>25</td>\n",
       "      <td>500.0</td>\n",
       "    </tr>\n",
       "    <tr>\n",
       "      <th>1</th>\n",
       "      <td>102</td>\n",
       "      <td>30</td>\n",
       "      <td>NaN</td>\n",
       "    </tr>\n",
       "    <tr>\n",
       "      <th>2</th>\n",
       "      <td>103</td>\n",
       "      <td>40</td>\n",
       "      <td>1000.0</td>\n",
       "    </tr>\n",
       "  </tbody>\n",
       "</table>\n",
       "</div>"
      ],
      "text/plain": [
       "   Customer_ID  Age  Purchase_Amount\n",
       "0          101   25            500.0\n",
       "1          102   30              NaN\n",
       "2          103   40           1000.0"
      ]
     },
     "metadata": {},
     "output_type": "display_data"
    }
   ],
   "source": [
    "customers = pd.DataFrame({'Customer_ID': [101, 102, 103], 'Age': [25, 30, 40]})\n",
    "purchases = pd.DataFrame({'Customer_ID': [101, 103], 'Purchase_Amount': [500, 1000]})\n",
    "\n",
    "customer_purchases = pd.merge(customers, purchases, on='Customer_ID', how='left')\n",
    "display(customer_purchases)"
   ]
  },
  {
   "cell_type": "code",
   "execution_count": null,
   "id": "43fcb4fa-1558-4ec2-88c7-c735d0ae7008",
   "metadata": {},
   "outputs": [],
   "source": []
  }
 ],
 "metadata": {
  "kernelspec": {
   "display_name": "Python 3 (ipykernel)",
   "language": "python",
   "name": "python3"
  },
  "language_info": {
   "codemirror_mode": {
    "name": "ipython",
    "version": 3
   },
   "file_extension": ".py",
   "mimetype": "text/x-python",
   "name": "python",
   "nbconvert_exporter": "python",
   "pygments_lexer": "ipython3",
   "version": "3.11.10"
  }
 },
 "nbformat": 4,
 "nbformat_minor": 5
}
