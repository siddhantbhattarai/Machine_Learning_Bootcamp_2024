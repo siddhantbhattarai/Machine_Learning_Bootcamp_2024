{
 "cells": [
  {
   "cell_type": "markdown",
   "id": "a5e92d67-a7a3-4589-b886-ac9a3fe3a563",
   "metadata": {},
   "source": [
    "### **Module 3: Handling Missing Data**\n",
    "In this module, students will explore techniques for detecting, handling, and filling missing data, which is a crucial task in data cleaning.\n",
    "\n",
    "#### **Topics:**\n",
    "- **Detecting Missing Data:**\n",
    "  - Identifying missing values using `isnull()` and `notnull()`.\n",
    "\n",
    "- **Handling Missing Data:**\n",
    "  - Dropping missing values using `dropna()`.\n",
    "  - Filling missing values using `fillna()` with mean, median, or custom values.\n",
    "  - Interpolation for filling in missing values.\n",
    "  \n",
    "- **Forward and Backward Filling:**\n",
    "  - Filling missing data with adjacent values (forward or backward fill).\n",
    "\n",
    "#### **Hands-on Lab:**\n",
    "- Load a dataset with missing values and explore different strategies for handling them, such as dropping or imputing missing data.\n",
    "\n",
    "---"
   ]
  },
  {
   "cell_type": "markdown",
   "id": "f2a72696-7e32-482f-9870-efe920f35982",
   "metadata": {},
   "source": [
    "### **Module 3: Handling Missing Data**\n",
    "\n",
    "In data preprocessing, missing data is common and can lead to biases and inaccuracies if not handled properly. Below are real-world **examples and scenarios** for each sub-topic.\n"
   ]
  },
  {
   "cell_type": "markdown",
   "id": "c653dc45-9ab0-4868-94d7-b4d370fdfa90",
   "metadata": {},
   "source": [
    "### **Detecting Missing Data:**\n",
    "\n",
    "Detecting missing values is the first step to handle incomplete datasets. You can use `isnull()`, `notnull()`, and `info()` to identify missing data.\n",
    "\n",
    "1. **Real-World Example 1 - Detecting Missing Data in Customer Feedback:**"
   ]
  },
  {
   "cell_type": "code",
   "execution_count": 2,
   "id": "c9e3531f-b82e-4809-a7ee-51318e45ab3d",
   "metadata": {},
   "outputs": [
    {
     "name": "stdout",
     "output_type": "stream",
     "text": [
      "   Customer_ID  Feedback_Score  Comments\n",
      "0        False           False     False\n",
      "1        False            True      True\n",
      "2        False           False     False\n",
      "3        False            True     False\n",
      "\n",
      "\n",
      "Number of missing values:\n",
      "Customer_ID       0\n",
      "Feedback_Score    2\n",
      "Comments          1\n",
      "dtype: int64\n"
     ]
    }
   ],
   "source": [
    "import pandas as pd\n",
    "\n",
    "# Example dataset\n",
    "feedback_data = pd.DataFrame({\n",
    "    'Customer_ID': [101, 102, 103, 104],\n",
    "    'Feedback_Score': [5, None, 4, None],\n",
    "    'Comments': ['Excellent', None, 'Good', 'Satisfactory']\n",
    "})\n",
    "\n",
    "# Detect missing values\n",
    "print(feedback_data.isnull())\n",
    "print(\"\\n\")\n",
    "print(f\"Number of missing values:\\n{feedback_data.isnull().sum()}\")"
   ]
  },
  {
   "cell_type": "markdown",
   "id": "d841dfb1-3c38-44a7-a12f-90e84b671ed9",
   "metadata": {},
   "source": [
    "**Use Case:** Identifying missing feedback in customer surveys to address incomplete reviews."
   ]
  },
  {
   "cell_type": "markdown",
   "id": "5b17d867-f165-4d6c-bce5-2b65a0ce526d",
   "metadata": {},
   "source": [
    "2. **Real-World Example 2 - Checking Missing Entries in E-commerce Orders:**"
   ]
  },
  {
   "cell_type": "code",
   "execution_count": 3,
   "id": "d1a7626b-0e1e-4f3e-8e60-0085747e15ee",
   "metadata": {},
   "outputs": [
    {
     "name": "stdout",
     "output_type": "stream",
     "text": [
      "Missing in 'Order_Date': 1\n"
     ]
    }
   ],
   "source": [
    "orders = pd.DataFrame({\n",
    "    'Order_ID': [1001, 1002, 1003],\n",
    "    'Order_Date': ['2025-01-01', None, '2025-01-03'],\n",
    "    'Amount': [150, 200, None]\n",
    "})\n",
    "\n",
    "print(\"Missing in 'Order_Date':\", orders['Order_Date'].isnull().sum())"
   ]
  },
  {
   "cell_type": "markdown",
   "id": "039e189e-f36e-4f1c-b481-9cd6172cd52b",
   "metadata": {},
   "source": [
    "**Use Case:** Detecting incomplete order records to ensure data consistency in sales reports."
   ]
  },
  {
   "cell_type": "markdown",
   "id": "56c041d9-609f-455e-9e00-46c6914d3871",
   "metadata": {},
   "source": [
    "3. **Real-World Example 3 - Checking Completeness of Financial Reports:**"
   ]
  },
  {
   "cell_type": "code",
   "execution_count": 4,
   "id": "7b2f30ff-b951-4931-9cce-e8f16597a015",
   "metadata": {},
   "outputs": [
    {
     "name": "stdout",
     "output_type": "stream",
     "text": [
      "   Year  Revenue\n",
      "0  True     True\n",
      "1  True    False\n",
      "2  True     True\n"
     ]
    }
   ],
   "source": [
    "financial_data = pd.DataFrame({\n",
    "    'Year': [2023, 2024, 2025],\n",
    "    'Revenue': [1000000, None, 1200000]\n",
    "})\n",
    "\n",
    "print(financial_data.notnull())"
   ]
  },
  {
   "cell_type": "markdown",
   "id": "ddf1592f-d7f7-4114-8da6-252858b656e6",
   "metadata": {},
   "source": [
    "**Use Case:** Identifying missing revenue data for financial forecasting."
   ]
  },
  {
   "cell_type": "markdown",
   "id": "59af9321-39fa-4da6-8df6-72a8b2673fda",
   "metadata": {},
   "source": [
    "### **Handling Missing Data:**\n",
    "\n",
    "There are several ways to handle missing data, such as dropping rows/columns, filling with mean/median/custom values, and interpolating missing values."
   ]
  },
  {
   "cell_type": "markdown",
   "id": "64874219-46a2-4b03-8046-e1302e6a6a3e",
   "metadata": {},
   "source": [
    "### **1. Dropping Missing Values (`dropna()`)**\n",
    "\n",
    "1. **Real-World Example 1 - Dropping Incomplete Customer Entries:**"
   ]
  },
  {
   "cell_type": "code",
   "execution_count": 5,
   "id": "6c8502fc-2431-42ed-b766-1fcfd3dd537d",
   "metadata": {},
   "outputs": [
    {
     "name": "stdout",
     "output_type": "stream",
     "text": [
      "   Customer_ID   Name   Age\n",
      "0            1  Alice  25.0\n",
      "1            2    Bob  30.0\n"
     ]
    }
   ],
   "source": [
    "customer_data = pd.DataFrame({\n",
    "    'Customer_ID': [1, 2, 3],\n",
    "    'Name': ['Alice', 'Bob', None],\n",
    "    'Age': [25, 30, None]\n",
    "})\n",
    "\n",
    "# Drop rows with any missing value\n",
    "cleaned_data = customer_data.dropna()\n",
    "print(cleaned_data)"
   ]
  },
  {
   "cell_type": "markdown",
   "id": "d5df5d92-fe69-4c54-9f36-ea9fbdbd965d",
   "metadata": {},
   "source": [
    "**Use Case:** Dropping rows with missing names in loyalty programs where identity is crucial."
   ]
  },
  {
   "cell_type": "markdown",
   "id": "3c75e388-5178-4ce1-9fdb-f1406402a9d2",
   "metadata": {},
   "source": [
    "2. **Real-World Example 2 - Dropping Columns with Too Many Missing Values:**"
   ]
  },
  {
   "cell_type": "code",
   "execution_count": 22,
   "id": "d8dd2e1d-5a01-4f85-b737-ed182f37de2a",
   "metadata": {},
   "outputs": [
    {
     "name": "stdout",
     "output_type": "stream",
     "text": [
      "   Product_ID\n",
      "0           1\n",
      "1           2\n",
      "2           3\n"
     ]
    }
   ],
   "source": [
    "product_data = pd.DataFrame({\n",
    "    'Product_ID': [1, 2, 3],\n",
    "    'Category': [None, 'Electronics', 'Clothing'],\n",
    "    'Price': [None, None, 50]\n",
    "})\n",
    "\n",
    "# Drop columns where all values are missing\n",
    "cleaned_data = product_data.dropna(axis=1, how='any')\n",
    "print(cleaned_data)"
   ]
  },
  {
   "cell_type": "markdown",
   "id": "786aa9d0-9601-49e3-b04e-5627a12ff60a",
   "metadata": {},
   "source": [
    "**Use Case:** Dropping irrelevant or missing fields from outdated product catalogs."
   ]
  },
  {
   "cell_type": "markdown",
   "id": "f9180913-b036-4f23-a454-f00ad74b1e05",
   "metadata": {},
   "source": [
    "### **2. Filling Missing Values (`fillna()`)**\n",
    "\n",
    "1. **Real-World Example 1 - Filling Missing Sales Data with Mean:**"
   ]
  },
  {
   "cell_type": "code",
   "execution_count": 8,
   "id": "890ffad9-5bc9-4c2a-8df6-8ad8c41a41bf",
   "metadata": {},
   "outputs": [
    {
     "name": "stdout",
     "output_type": "stream",
     "text": [
      "  Month    Sales\n",
      "0   Jan  10000.0\n",
      "1   Feb  12500.0\n",
      "2   Mar  15000.0\n"
     ]
    }
   ],
   "source": [
    "sales_data = pd.DataFrame({\n",
    "    'Month': ['Jan', 'Feb', 'Mar'],\n",
    "    'Sales': [10000, None, 15000]\n",
    "})\n",
    "\n",
    "# Fill missing sales data with the mean value\n",
    "sales_data['Sales'] = sales_data['Sales'].fillna(sales_data['Sales'].mean())\n",
    "print(sales_data)\n"
   ]
  },
  {
   "cell_type": "markdown",
   "id": "8101cc2b-e378-4664-a7ff-21bef2dedbd9",
   "metadata": {},
   "source": [
    "**Use Case:** Imputing sales data for months with missing records in reports."
   ]
  },
  {
   "cell_type": "markdown",
   "id": "87545c62-cafe-40ef-8e34-3c83f5d20369",
   "metadata": {},
   "source": [
    "2. **Real-World Example 2 - Filling Missing Temperature Data with Median:**"
   ]
  },
  {
   "cell_type": "code",
   "execution_count": 23,
   "id": "9978ff26-faeb-431b-bee2-e0c7f6a75b61",
   "metadata": {},
   "outputs": [
    {
     "name": "stdout",
     "output_type": "stream",
     "text": [
      "   Day  Temperature\n",
      "0    1        30.50\n",
      "1    2        29.75\n",
      "2    3        29.00\n"
     ]
    }
   ],
   "source": [
    "import pandas as pd\n",
    "\n",
    "weather_data = pd.DataFrame({\n",
    "    'Day': [1, 2, 3],\n",
    "    'Temperature': [30.5, None, 29.0]\n",
    "})\n",
    "\n",
    "# Reassign the filled column\n",
    "weather_data['Temperature'] = weather_data['Temperature'].fillna(weather_data['Temperature'].median())\n",
    "print(weather_data)"
   ]
  },
  {
   "cell_type": "markdown",
   "id": "79a77a89-c516-40d0-a8a4-c1f341dd00ca",
   "metadata": {},
   "source": [
    "**Use Case:** Handling missing temperature data in weather prediction systems."
   ]
  },
  {
   "cell_type": "markdown",
   "id": "f19ea5ed-e319-4d12-9ab5-0809f58c0663",
   "metadata": {},
   "source": [
    "3. **Real-World Example 3 - Filling Custom Values for Missing Shipping Information:**"
   ]
  },
  {
   "cell_type": "code",
   "execution_count": 24,
   "id": "eccc96b2-31a6-414a-be74-d0be5d1d6c3a",
   "metadata": {},
   "outputs": [
    {
     "name": "stdout",
     "output_type": "stream",
     "text": [
      "   Order_ID Shipping_Status\n",
      "0         1       Delivered\n",
      "1         2         Pending\n",
      "2         3         Pending\n"
     ]
    }
   ],
   "source": [
    "import pandas as pd\n",
    "\n",
    "shipping_data = pd.DataFrame({\n",
    "    'Order_ID': [1, 2, 3],\n",
    "    'Shipping_Status': ['Delivered', None, None]\n",
    "})\n",
    "\n",
    "# Reassign the filled column\n",
    "shipping_data['Shipping_Status'] = shipping_data['Shipping_Status'].fillna('Pending')\n",
    "print(shipping_data)"
   ]
  },
  {
   "cell_type": "markdown",
   "id": "dd42fc09-a3f5-463f-9404-d589d993da13",
   "metadata": {},
   "source": [
    "**Use Case:** Updating missing shipping statuses to \"Pending\" in logistics tracking."
   ]
  },
  {
   "cell_type": "markdown",
   "id": "f4cbe97e-527d-47ef-aa20-a246160b2400",
   "metadata": {},
   "source": [
    "### **3. Interpolation for Filling Missing Values:**\n",
    "\n",
    "1. **Real-World Example - Interpolating Time Series Data:**"
   ]
  },
  {
   "cell_type": "code",
   "execution_count": 13,
   "id": "b42dee86-f560-4f48-9349-648974243c2f",
   "metadata": {},
   "outputs": [
    {
     "name": "stdout",
     "output_type": "stream",
     "text": [
      "         Date  Price\n",
      "0  2025-01-01  100.0\n",
      "1  2025-01-02  102.5\n",
      "2  2025-01-03  105.0\n"
     ]
    }
   ],
   "source": [
    "stock_prices = pd.DataFrame({\n",
    "    'Date': ['2025-01-01', '2025-01-02', '2025-01-03'],\n",
    "    'Price': [100, None, 105]\n",
    "})\n",
    "\n",
    "# Interpolate missing values linearly\n",
    "stock_prices['Price'] = stock_prices['Price'].interpolate()\n",
    "print(stock_prices)"
   ]
  },
  {
   "cell_type": "markdown",
   "id": "903d4e2f-b51c-4d37-846f-d5a00da4ef09",
   "metadata": {},
   "source": [
    "**Use Case:** Filling missing stock prices in a dataset for market analysis."
   ]
  },
  {
   "cell_type": "markdown",
   "id": "93173724-37f0-48e0-a545-23c4435bfdf7",
   "metadata": {},
   "source": [
    "### **Forward and Backward Filling:**\n",
    "\n",
    "1. **Real-World Example 1 - Forward Fill for Filling Temperature Readings:**"
   ]
  },
  {
   "cell_type": "code",
   "execution_count": 17,
   "id": "15411e13-11af-4fa2-af41-0b12419d8b35",
   "metadata": {},
   "outputs": [
    {
     "name": "stdout",
     "output_type": "stream",
     "text": [
      "       Time  Temperature\n",
      "0   9:00 AM         22.5\n",
      "1  10:00 AM         22.5\n",
      "2  11:00 AM         22.5\n"
     ]
    }
   ],
   "source": [
    "temp_readings = pd.DataFrame({\n",
    "    'Time': ['9:00 AM', '10:00 AM', '11:00 AM'],\n",
    "    'Temperature': [22.5, None, None]\n",
    "})\n",
    "\n",
    "# Forward fill\n",
    "temp_readings['Temperature'] = temp_readings['Temperature'].ffill()\n",
    "print(temp_readings)"
   ]
  },
  {
   "cell_type": "markdown",
   "id": "f597ed92-9b1a-46f2-8edc-3fb4fc4789d9",
   "metadata": {},
   "source": [
    "**Use Case:** Forward filling sensor data when real-time readings are missing."
   ]
  },
  {
   "cell_type": "markdown",
   "id": "0b6d1033-f5a9-4dc3-9df3-33dbb613c29c",
   "metadata": {},
   "source": [
    "2. **Real-World Example 2 - Backward Fill for E-commerce Prices:**"
   ]
  },
  {
   "cell_type": "code",
   "execution_count": 21,
   "id": "d705e0c7-24d3-4a87-aad6-7f0dd9ded6f5",
   "metadata": {},
   "outputs": [
    {
     "name": "stdout",
     "output_type": "stream",
     "text": [
      "   Product_ID  Price\n",
      "0           1  200.0\n",
      "1           2  200.0\n",
      "2           3  250.0\n"
     ]
    }
   ],
   "source": [
    "prices = pd.DataFrame({\n",
    "    'Product_ID': [1, 2, 3],\n",
    "    'Price': [None, 200, 250]\n",
    "})\n",
    "\n",
    "# Backward fill\n",
    "prices['Price'] = prices['Price'].bfill()\n",
    "print(prices)\n"
   ]
  },
  {
   "cell_type": "code",
   "execution_count": null,
   "id": "5179932c-747f-4552-85f1-1a7d8e9d0faf",
   "metadata": {},
   "outputs": [],
   "source": []
  }
 ],
 "metadata": {
  "kernelspec": {
   "display_name": "Python 3 (ipykernel)",
   "language": "python",
   "name": "python3"
  },
  "language_info": {
   "codemirror_mode": {
    "name": "ipython",
    "version": 3
   },
   "file_extension": ".py",
   "mimetype": "text/x-python",
   "name": "python",
   "nbconvert_exporter": "python",
   "pygments_lexer": "ipython3",
   "version": "3.11.10"
  }
 },
 "nbformat": 4,
 "nbformat_minor": 5
}
