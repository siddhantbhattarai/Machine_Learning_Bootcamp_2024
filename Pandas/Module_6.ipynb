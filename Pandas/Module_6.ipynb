{
 "cells": [
  {
   "cell_type": "markdown",
   "id": "a31649f6-1a19-465c-b260-86a0313d1b63",
   "metadata": {},
   "source": [
    "### **Module 6: Grouping and Aggregation**\n",
    "This module explores grouping data for aggregation, which is a crucial step in exploratory data analysis and feature engineering.\n",
    "\n",
    "#### **Topics:**\n",
    "- **Grouping Data:**\n",
    "  - Grouping data by one or more columns using `groupby()`.\n",
    "  \n",
    "- **Aggregation Functions:**\n",
    "  - Applying aggregation functions like `sum()`, `mean()`, `count()`, and `max()` on grouped data.\n",
    "\n",
    "- **Pivot Tables:**\n",
    "  - Creating pivot tables for summarizing and aggregating data.\n",
    "\n",
    "#### **Hands-on Lab:**\n",
    "- Group a dataset by a categorical column (e.g., `gender`) and calculate summary statistics for each group.\n",
    "- Create a pivot table to summarize the data.\n",
    "\n",
    "---"
   ]
  },
  {
   "cell_type": "markdown",
   "id": "5ab995ab-e411-4318-aa35-224a783f40d9",
   "metadata": {},
   "source": [
    "## **1. Grouping Data**\n",
    "\n",
    "### **Real-world Scenario 1: Customer Purchases by City**  \n",
    "You have a **sales dataset** from multiple cities, and you want to analyze total sales for each city.\n",
    "\n",
    "### **Example: Grouping by City**"
   ]
  },
  {
   "cell_type": "code",
   "execution_count": 1,
   "id": "8936e5b5-7dbe-421d-b0bb-af00c66d48b6",
   "metadata": {},
   "outputs": [
    {
     "name": "stdout",
     "output_type": "stream",
     "text": [
      "city\n",
      "Chicago        250\n",
      "Los Angeles    700\n",
      "New York       450\n",
      "Name: sales, dtype: int64\n"
     ]
    }
   ],
   "source": [
    "import pandas as pd\n",
    "\n",
    "# Sample sales data\n",
    "data = {\n",
    "    'city': ['New York', 'Los Angeles', 'New York', 'Chicago', 'Los Angeles', 'Chicago'],\n",
    "    'sales': [250, 300, 200, 150, 400, 100],\n",
    "    'product_category': ['Electronics', 'Clothing', 'Furniture', 'Clothing', 'Electronics', 'Furniture']\n",
    "}\n",
    "\n",
    "df = pd.DataFrame(data)\n",
    "\n",
    "# Grouping sales data by city\n",
    "grouped_by_city = df.groupby('city')['sales'].sum()\n",
    "\n",
    "print(grouped_by_city)"
   ]
  },
  {
   "cell_type": "markdown",
   "id": "fa301e1a-a13c-4fea-9fcc-abde9898daac",
   "metadata": {},
   "source": [
    "## **2. Aggregation Functions**\n",
    "\n",
    "### **Real-world Scenario 2: Product Sales Summary**  \n",
    "You have a dataset of sales for different **products**, and you want to calculate **average sales, total sales, and the number of sales per product category**.\n",
    "\n",
    "### **Example: Grouping by Product Category with Multiple Aggregations**"
   ]
  },
  {
   "cell_type": "code",
   "execution_count": 2,
   "id": "58f54ce4-8353-4710-9b7d-f35ccc4dcd3f",
   "metadata": {},
   "outputs": [
    {
     "name": "stdout",
     "output_type": "stream",
     "text": [
      "                  total_sales  average_sales  sale_count\n",
      "product_category                                        \n",
      "Clothing                  450          225.0           2\n",
      "Electronics               650          325.0           2\n",
      "Furniture                 300          150.0           2\n"
     ]
    }
   ],
   "source": [
    "# Grouping by product category and applying aggregation functions\n",
    "grouped_by_category = df.groupby('product_category').agg(\n",
    "    total_sales=('sales', 'sum'),\n",
    "    average_sales=('sales', 'mean'),\n",
    "    sale_count=('sales', 'count')\n",
    ")\n",
    "\n",
    "print(grouped_by_category)"
   ]
  },
  {
   "cell_type": "markdown",
   "id": "59b4c21b-d39a-4699-9914-c4f6512d313f",
   "metadata": {},
   "source": [
    "### **Real-world Scenario 3: Student Exam Scores**  \n",
    "You have a dataset of **students' exam scores** across different subjects. You want to calculate the **highest, lowest, and average scores for each subject**."
   ]
  },
  {
   "cell_type": "code",
   "execution_count": 3,
   "id": "0eb817b6-f735-4535-8fa1-9b126adc0c97",
   "metadata": {},
   "outputs": [
    {
     "name": "stdout",
     "output_type": "stream",
     "text": [
      "         max_score  min_score  average_score\n",
      "subject                                     \n",
      "History         92         80           86.0\n",
      "Math            85         78           81.5\n",
      "Science         90         88           89.0\n"
     ]
    }
   ],
   "source": [
    "# Sample student exam data\n",
    "student_data = {\n",
    "    'subject': ['Math', 'Science', 'Math', 'History', 'Science', 'History'],\n",
    "    'student': ['Alice', 'Bob', 'Charlie', 'Alice', 'Bob', 'Charlie'],\n",
    "    'score': [85, 90, 78, 92, 88, 80]\n",
    "}\n",
    "\n",
    "df = pd.DataFrame(student_data)\n",
    "\n",
    "# Grouping by subject and aggregating\n",
    "score_summary = df.groupby('subject').agg(\n",
    "    max_score=('score', 'max'),\n",
    "    min_score=('score', 'min'),\n",
    "    average_score=('score', 'mean')\n",
    ")\n",
    "\n",
    "print(score_summary)"
   ]
  },
  {
   "cell_type": "markdown",
   "id": "fc5f9cf2-bdfc-4bc5-8f44-6ff664adfead",
   "metadata": {},
   "source": [
    "## **3. Pivot Tables**\n",
    "\n",
    "### **Real-world Scenario 4: Employee Salary Report**  \n",
    "You want to create a **pivot table** to analyze the **average salary of employees grouped by department and job role**.\n",
    "\n",
    "### **Example: Employee Salary Pivot Table**"
   ]
  },
  {
   "cell_type": "code",
   "execution_count": 4,
   "id": "ec05104f-40a4-47a2-a3a4-a114403e3000",
   "metadata": {},
   "outputs": [
    {
     "name": "stdout",
     "output_type": "stream",
     "text": [
      "job_role    Analyst  Developer  Executive  Manager\n",
      "department                                        \n",
      "HR              NaN        NaN    55000.0  65000.0\n",
      "IT          80000.0    75000.0        NaN      NaN\n",
      "Sales           NaN        NaN    50000.0  60000.0\n"
     ]
    }
   ],
   "source": [
    "# Sample employee salary data\n",
    "employee_data = {\n",
    "    'department': ['Sales', 'IT', 'Sales', 'HR', 'IT', 'HR'],\n",
    "    'job_role': ['Manager', 'Developer', 'Executive', 'Manager', 'Analyst', 'Executive'],\n",
    "    'salary': [60000, 75000, 50000, 65000, 80000, 55000]\n",
    "}\n",
    "\n",
    "df = pd.DataFrame(employee_data)\n",
    "\n",
    "# Creating a pivot table for average salary\n",
    "pivot_salary = pd.pivot_table(df, values='salary', index='department', columns='job_role', aggfunc='mean')\n",
    "\n",
    "print(pivot_salary)"
   ]
  },
  {
   "cell_type": "markdown",
   "id": "9fd5745d-1b6c-41c9-9b3d-ab4b5ac8018e",
   "metadata": {},
   "source": [
    "### **Real-world Scenario 5: Store Sales Report**  \n",
    "You want to create a **pivot table** to summarize **total sales for each store, grouped by product category and month**."
   ]
  },
  {
   "cell_type": "code",
   "execution_count": 5,
   "id": "0140bc09-1a83-4bb4-85dc-0fcc17642a94",
   "metadata": {},
   "outputs": [
    {
     "name": "stdout",
     "output_type": "stream",
     "text": [
      "month    February  January  March\n",
      "store                            \n",
      "Store A      1500     1000   2000\n",
      "Store B      1300     1200   1800\n"
     ]
    }
   ],
   "source": [
    "# Sample store sales data\n",
    "sales_data = {\n",
    "    'store': ['Store A', 'Store B', 'Store A', 'Store B', 'Store A', 'Store B'],\n",
    "    'month': ['January', 'January', 'February', 'February', 'March', 'March'],\n",
    "    'product_category': ['Electronics', 'Clothing', 'Electronics', 'Clothing', 'Electronics', 'Clothing'],\n",
    "    'sales': [1000, 1200, 1500, 1300, 2000, 1800]\n",
    "}\n",
    "\n",
    "df = pd.DataFrame(sales_data)\n",
    "\n",
    "# Creating a pivot table for total sales\n",
    "pivot_sales = pd.pivot_table(df, values='sales', index='store', columns='month', aggfunc='sum')\n",
    "\n",
    "print(pivot_sales)"
   ]
  },
  {
   "cell_type": "markdown",
   "id": "9ac65f36-7c37-441c-83ad-6d8da90d935c",
   "metadata": {},
   "source": [
    "## **4. Hands-on Lab: Full Example 1**\n",
    "\n",
    "### **Scenario 6: Grouping and Aggregating Students' Grades**  \n",
    "You have a dataset of **students’ grades** for multiple subjects and want to:\n",
    "1. Group the data by **subject** and calculate summary statistics for **average and max scores**.\n",
    "2. Create a **pivot table** to summarize the data by **student and subject**."
   ]
  },
  {
   "cell_type": "code",
   "execution_count": 6,
   "id": "8f5c858b-7944-400b-8f5e-a803ec1053c0",
   "metadata": {},
   "outputs": [
    {
     "name": "stdout",
     "output_type": "stream",
     "text": [
      "Subject Summary:\n",
      "         average_grade  highest_grade\n",
      "subject                              \n",
      "History           89.5             92\n",
      "Math              83.0             88\n",
      "Science           87.5             90\n",
      "\n",
      "Pivot Table:\n",
      "subject  History  Math  Science\n",
      "student                        \n",
      "Alice        NaN  88.0     90.0\n",
      "Bob         92.0  78.0      NaN\n",
      "Charlie     87.0   NaN     85.0\n"
     ]
    }
   ],
   "source": [
    "# Student grades dataset\n",
    "grade_data = {\n",
    "    'student': ['Alice', 'Bob', 'Alice', 'Charlie', 'Bob', 'Charlie'],\n",
    "    'subject': ['Math', 'Math', 'Science', 'Science', 'History', 'History'],\n",
    "    'grade': [88, 78, 90, 85, 92, 87]\n",
    "}\n",
    "\n",
    "df = pd.DataFrame(grade_data)\n",
    "\n",
    "# Grouping by subject\n",
    "subject_summary = df.groupby('subject').agg(\n",
    "    average_grade=('grade', 'mean'),\n",
    "    highest_grade=('grade', 'max')\n",
    ")\n",
    "\n",
    "print(\"Subject Summary:\")\n",
    "print(subject_summary)\n",
    "\n",
    "# Pivot table by student and subject\n",
    "pivot_grades = pd.pivot_table(df, values='grade', index='student', columns='subject', aggfunc='mean')\n",
    "\n",
    "print(\"\\nPivot Table:\")\n",
    "print(pivot_grades)"
   ]
  },
  {
   "cell_type": "markdown",
   "id": "2eb6c49b-b99b-43e5-8368-67d7415c85b1",
   "metadata": {},
   "source": [
    "## **5. Hands-on Lab: Full Example 2**\n",
    "\n",
    "### **Scenario 7: E-Commerce Sales Data**  \n",
    "You have an **e-commerce dataset** with data on product sales by **region** and **payment method**. You want to:\n",
    "1. Group sales data by **region** and calculate **total sales and average sales**.\n",
    "2. Create a **pivot table** to show **total sales for each region, grouped by payment method**."
   ]
  },
  {
   "cell_type": "code",
   "execution_count": 7,
   "id": "1edc3b1a-b7fc-4964-a099-2ae8e7eb8258",
   "metadata": {},
   "outputs": [
    {
     "name": "stdout",
     "output_type": "stream",
     "text": [
      "Region Summary:\n",
      "        total_sales  average_sales\n",
      "region                            \n",
      "East           1000          500.0\n",
      "North           800          400.0\n",
      "South           700          700.0\n",
      "West           1700          850.0\n",
      "\n",
      "Pivot Table by Payment Method:\n",
      "payment_method  Credit Card  Debit Card  PayPal\n",
      "region                                         \n",
      "East                    NaN       400.0   600.0\n",
      "North                 800.0         NaN     NaN\n",
      "South                   NaN         NaN   700.0\n",
      "West                  800.0         NaN   900.0\n"
     ]
    }
   ],
   "source": [
    "# E-commerce sales data\n",
    "ecommerce_data = {\n",
    "    'region': ['North', 'South', 'North', 'East', 'West', 'East', 'West'],\n",
    "    'payment_method': ['Credit Card', 'PayPal', 'Credit Card', 'PayPal', 'Credit Card', 'Debit Card', 'PayPal'],\n",
    "    'sales_amount': [500, 700, 300, 600, 800, 400, 900]\n",
    "}\n",
    "\n",
    "df = pd.DataFrame(ecommerce_data)\n",
    "\n",
    "# Grouping by region\n",
    "region_summary = df.groupby('region').agg(\n",
    "    total_sales=('sales_amount', 'sum'),\n",
    "    average_sales=('sales_amount', 'mean')\n",
    ")\n",
    "\n",
    "print(\"Region Summary:\")\n",
    "print(region_summary)\n",
    "\n",
    "# Pivot table for sales by region and payment method\n",
    "pivot_payments = pd.pivot_table(df, values='sales_amount', index='region', columns='payment_method', aggfunc='sum')\n",
    "\n",
    "print(\"\\nPivot Table by Payment Method:\")\n",
    "print(pivot_payments)"
   ]
  },
  {
   "cell_type": "markdown",
   "id": "42be836f-bd94-4239-bb05-e6cce0d31ff7",
   "metadata": {},
   "source": [
    "## **Summary of Examples:**\n",
    "| **Scenario**               | **Function**    | **Description**                                         |\n",
    "|----------------------------|----------------|--------------------------------------------------------|\n",
    "| Customer Purchases by City  | `groupby()`     | Grouping sales data by city to calculate total sales.  |\n",
    "| Product Sales Summary       | `agg()`         | Summary of sales (sum, mean, count) per product.        |\n",
    "| Student Exam Scores         | `agg()`         | Highest, lowest, and average exam scores per subject.   |\n",
    "| Employee Salary Report      | `pivot_table()` | Average salary grouped by department and job role.      |\n",
    "| Store Sales Report          | `pivot_table()` | Total sales grouped by store and month.                 |\n",
    "| Students’ Grades            | Full Example    | Summary stats and pivot table for student grades.       |\n",
    "| E-commerce Sales by Region  | Full Example    | Region summary and pivot table by payment method.       |\n",
    "\n",
    "These examples cover a wide range of **real-world scenarios** for grouping, aggregating, and summarizing data using **pivot tables**."
   ]
  },
  {
   "cell_type": "code",
   "execution_count": null,
   "id": "97c88517-77ca-4afc-b174-1f9bdcbcda67",
   "metadata": {},
   "outputs": [],
   "source": []
  }
 ],
 "metadata": {
  "kernelspec": {
   "display_name": "Python 3 (ipykernel)",
   "language": "python",
   "name": "python3"
  },
  "language_info": {
   "codemirror_mode": {
    "name": "ipython",
    "version": 3
   },
   "file_extension": ".py",
   "mimetype": "text/x-python",
   "name": "python",
   "nbconvert_exporter": "python",
   "pygments_lexer": "ipython3",
   "version": "3.11.10"
  }
 },
 "nbformat": 4,
 "nbformat_minor": 5
}
