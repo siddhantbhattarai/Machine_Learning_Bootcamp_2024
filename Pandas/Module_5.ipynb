{
 "cells": [
  {
   "cell_type": "markdown",
   "id": "90df1ffb-7bf9-455f-854a-c316263284eb",
   "metadata": {},
   "source": [
    "### **Module 5: Working with Time Series Data**\n",
    "Time series data is essential in many AI applications (e.g., stock prices, sensor data). This module covers how to manipulate and analyze time-indexed data.\n",
    "\n",
    "#### **Topics:**\n",
    "- **DateTime Indexing:**\n",
    "  - Parsing dates and setting them as the DataFrame index using `pd.to_datetime()`.\n",
    "\n",
    "- **Time-based Selection:**\n",
    "  - Selecting data using specific time ranges.\n",
    "\n",
    "- **Resampling and Aggregating:**\n",
    "  - Resampling data (e.g., to hourly, daily, or monthly frequencies) using `resample()`.\n",
    "  - Aggregating data using functions such as `sum()`, `mean()`, etc.\n",
    "\n",
    "#### **Hands-on Lab:**\n",
    "- Load a time series dataset, parse date columns, and resample the data for different time intervals (e.g., monthly averages).\n",
    "\n",
    "---"
   ]
  },
  {
   "cell_type": "markdown",
   "id": "240e4acc-e6b0-41ae-8149-209deb3f65ba",
   "metadata": {},
   "source": [
    "## **1. DateTime Indexing**  \n",
    "### **Real-world Scenario 1:**  \n",
    "A **smart home system** collects temperature readings every minute. You want to convert the timestamps and set them as an index to analyze time-based patterns.\n",
    "\n",
    "### **Example: Temperature Readings**"
   ]
  },
  {
   "cell_type": "code",
   "execution_count": 2,
   "id": "86a23359-56c8-4727-835a-e103b14578f5",
   "metadata": {},
   "outputs": [
    {
     "name": "stdout",
     "output_type": "stream",
     "text": [
      "                     temperature\n",
      "timestamp                       \n",
      "2025-01-01 06:15:00         19.5\n",
      "2025-01-01 06:45:00         20.1\n",
      "2025-01-01 07:15:00         21.0\n",
      "2025-01-01 07:45:00         20.8\n"
     ]
    }
   ],
   "source": [
    "import pandas as pd\n",
    "\n",
    "# Temperature readings logged at different times\n",
    "data = {\n",
    "    'timestamp': ['2025-01-01 06:15', '2025-01-01 06:45', '2025-01-01 07:15', '2025-01-01 07:45'],\n",
    "    'temperature': [19.5, 20.1, 21.0, 20.8]\n",
    "}\n",
    "\n",
    "df = pd.DataFrame(data)\n",
    "\n",
    "# Convert timestamps and set index\n",
    "df['timestamp'] = pd.to_datetime(df['timestamp'])\n",
    "df.set_index('timestamp', inplace=True)\n",
    "\n",
    "print(df)"
   ]
  },
  {
   "cell_type": "markdown",
   "id": "df0e6266-9c51-4516-84a4-8578ad8fd870",
   "metadata": {},
   "source": [
    "## **2. Time-based Selection**  \n",
    "### **Real-world Scenario 2:**  \n",
    "You’re working with **website traffic logs** and want to filter data for a specific date range (e.g., during a marketing campaign).\n",
    "\n",
    "### **Example: Filtering Traffic Logs by Time Range**"
   ]
  },
  {
   "cell_type": "code",
   "execution_count": 4,
   "id": "3f04c648-dc86-4412-9de2-a097ba8d28af",
   "metadata": {},
   "outputs": [
    {
     "name": "stdout",
     "output_type": "stream",
     "text": [
      "                     visits\n",
      "timestamp                  \n",
      "2025-01-01 04:00:00     500\n",
      "2025-01-01 05:00:00     700\n",
      "2025-01-01 06:00:00     450\n",
      "2025-01-01 07:00:00     220\n"
     ]
    }
   ],
   "source": [
    "# Sample data: Website visits during a campaign\n",
    "data = {\n",
    "    'timestamp': pd.date_range('2025-01-01', periods=10, freq='h'),\n",
    "    'visits': [100, 120, 150, 300, 500, 700, 450, 220, 130, 90]\n",
    "}\n",
    "\n",
    "df = pd.DataFrame(data).set_index('timestamp')\n",
    "\n",
    "# Select data for 3-hour window (e.g., Jan 1, 4:00 to 7:00 AM)\n",
    "selected_data = df['2025-01-01 04:00':'2025-01-01 07:00']\n",
    "\n",
    "print(selected_data)"
   ]
  },
  {
   "cell_type": "markdown",
   "id": "30bc4771-019b-480c-bee1-78f51b135d48",
   "metadata": {},
   "source": [
    "## **3. Resampling and Aggregating**  \n",
    "### **Real-world Scenario 3:**  \n",
    "You’re monitoring **stock prices** and want to calculate daily and monthly trends from minute-by-minute data.\n",
    "\n",
    "### **Example 1: Daily Average Stock Price**"
   ]
  },
  {
   "cell_type": "code",
   "execution_count": 6,
   "id": "1a1b6af2-6c88-41fd-9c60-3170e90d4d8a",
   "metadata": {},
   "outputs": [
    {
     "name": "stdout",
     "output_type": "stream",
     "text": [
      "            stock_price\n",
      "timestamp              \n",
      "2025-01-01       105.95\n"
     ]
    }
   ],
   "source": [
    "# Simulated stock price data (minute-level)\n",
    "data = {\n",
    "    'timestamp': pd.date_range('2025-01-01', periods=120, freq='min'),  # Minute-by-minute\n",
    "    'stock_price': [100 + i * 0.1 for i in range(120)]  # Simulate an increasing trend\n",
    "}\n",
    "\n",
    "df = pd.DataFrame(data).set_index('timestamp')\n",
    "\n",
    "# Resample to daily frequency and compute mean\n",
    "daily_average = df.resample('D').mean()\n",
    "\n",
    "print(daily_average)"
   ]
  },
  {
   "cell_type": "markdown",
   "id": "868cb582-a2d3-49bf-8db5-9009795d4cd6",
   "metadata": {},
   "source": [
    "### **Example 2: Monthly Sales Aggregation (Sum)**"
   ]
  },
  {
   "cell_type": "code",
   "execution_count": 9,
   "id": "5b6f31a9-64f6-4c77-9143-378208bc2e69",
   "metadata": {},
   "outputs": [
    {
     "name": "stdout",
     "output_type": "stream",
     "text": [
      "            sales\n",
      "date             \n",
      "2024-01-31   8375\n",
      "2024-02-29   7975\n",
      "2024-03-31   8375\n",
      "2024-04-30   8175\n",
      "2024-05-31   8380\n",
      "2024-06-30   8175\n",
      "2024-07-31   8385\n",
      "2024-08-31   8390\n",
      "2024-09-30   8175\n",
      "2024-10-31   8395\n",
      "2024-11-30   8175\n",
      "2024-12-31   8175\n"
     ]
    }
   ],
   "source": [
    "# Simulated monthly sales data\n",
    "sales_data = {\n",
    "    'date': pd.date_range('2024-01-01', periods=365, freq='D'),\n",
    "    'sales': [200 + (x % 30) * 5 for x in range(365)]  # Simulate a daily increase\n",
    "}\n",
    "\n",
    "df = pd.DataFrame(sales_data).set_index('date')\n",
    "\n",
    "# Resample to monthly frequency and calculate total sales\n",
    "monthly_sales = df.resample('ME').sum()\n",
    "\n",
    "print(monthly_sales)"
   ]
  },
  {
   "cell_type": "markdown",
   "id": "380853aa-0974-4b66-8e5e-cfec7fc337ea",
   "metadata": {},
   "source": [
    "## **4. Hands-on Lab: Full Example**  \n",
    "### **Real-world Scenario 4:**  \n",
    "You are analyzing **electricity usage** for a household. The dataset contains hourly data for an entire year. You need to:\n",
    "1. Parse the dates.\n",
    "2. Resample the data to weekly averages.\n",
    "3. Plot the result.\n",
    "\n",
    "### **Complete Hands-on Example**"
   ]
  },
  {
   "cell_type": "code",
   "execution_count": 11,
   "id": "4d83de8e-a35a-4a2a-895a-31e0c373ca26",
   "metadata": {},
   "outputs": [
    {
     "data": {
      "image/png": "[encoded data removed]",
      "text/plain": [
       "<Figure size 1000x500 with 1 Axes>"
      ]
     },
     "metadata": {},
     "output_type": "display_data"
    }
   ],
   "source": [
    "import matplotlib.pyplot as plt\n",
    "\n",
    "# Load a time series dataset (hourly electricity usage)\n",
    "data = {\n",
    "    'timestamp': pd.date_range('2024-01-01', periods=8760, freq='h'),  # 8760 hours (365 days)\n",
    "    'usage_kwh': [5 + (x % 24) * 0.2 for x in range(8760)]  # Varies hourly\n",
    "}\n",
    "\n",
    "df = pd.DataFrame(data)\n",
    "df['timestamp'] = pd.to_datetime(df['timestamp'])\n",
    "df.set_index('timestamp', inplace=True)\n",
    "\n",
    "# Resample data to weekly averages\n",
    "weekly_avg = df.resample('W').mean()\n",
    "\n",
    "# Plot the weekly average usage\n",
    "plt.figure(figsize=(10, 5))\n",
    "plt.plot(weekly_avg.index, weekly_avg['usage_kwh'], label='Weekly Average Usage (kWh)')\n",
    "plt.xlabel('Date')\n",
    "plt.ylabel('Electricity Usage (kWh)')\n",
    "plt.title('Weekly Average Electricity Usage')\n",
    "plt.legend()\n",
    "plt.show()"
   ]
  },
  {
   "cell_type": "markdown",
   "id": "89014dea-0580-4b9c-957a-3a4822450915",
   "metadata": {},
   "source": [
    "### **Summary of Real-world Use Cases:**\n",
    "\n",
    "1. **Temperature Monitoring**: Smart home system logs.\n",
    "2. **Website Traffic Logs**: Filter visits during a campaign.\n",
    "3. **Stock Market Analysis**: Resampling to daily and monthly prices.\n",
    "4. **Electricity Usage**: Aggregating power usage to weekly trends."
   ]
  },
  {
   "cell_type": "markdown",
   "id": "a91177da-e210-478e-9275-eeef22d38895",
   "metadata": {},
   "source": [
    "## **1. Smart Home Energy Usage (Hourly to Daily)**  \n",
    "### **Scenario:**  \n",
    "A smart home records hourly **power consumption**. You need to calculate **daily totals** to analyze energy consumption patterns."
   ]
  },
  {
   "cell_type": "code",
   "execution_count": 13,
   "id": "c0a34c7f-2cc5-46d7-8391-eebe99afb5fd",
   "metadata": {},
   "outputs": [
    {
     "data": {
      "image/png": "[encoded data removed]",
      "text/plain": [
       "<Figure size 800x400 with 1 Axes>"
      ]
     },
     "metadata": {},
     "output_type": "display_data"
    }
   ],
   "source": [
    "import pandas as pd\n",
    "import matplotlib.pyplot as plt\n",
    "\n",
    "# Sample hourly data\n",
    "data = {\n",
    "    'timestamp': pd.date_range('2025-01-01', periods=72, freq='h'),  # 3 days of hourly data\n",
    "    'power_consumed_kwh': [0.8 + (i % 24) * 0.1 for i in range(72)]\n",
    "}\n",
    "\n",
    "df = pd.DataFrame(data)\n",
    "df['timestamp'] = pd.to_datetime(df['timestamp'])\n",
    "df.set_index('timestamp', inplace=True)\n",
    "\n",
    "# Resample to daily frequency\n",
    "daily_consumption = df.resample('D').sum()\n",
    "\n",
    "# Plot\n",
    "plt.figure(figsize=(8, 4))\n",
    "plt.plot(daily_consumption.index, daily_consumption['power_consumed_kwh'], label='Daily Power Consumption')\n",
    "plt.xlabel('Date')\n",
    "plt.ylabel('Power (kWh)')\n",
    "plt.title('Daily Power Consumption Over Time')\n",
    "plt.legend()\n",
    "plt.show()"
   ]
  },
  {
   "cell_type": "markdown",
   "id": "e9aacef2-c560-4618-8e7a-ca2c966ef6d6",
   "metadata": {},
   "source": [
    "## **2. Stock Prices (Minute to Daily)**  \n",
    "### **Scenario:**  \n",
    "You have minute-by-minute **stock prices** and want to calculate the **daily average stock price**.\n"
   ]
  },
  {
   "cell_type": "code",
   "execution_count": 15,
   "id": "4b83cc7b-38a6-48b7-be8d-e23d4bd77b79",
   "metadata": {},
   "outputs": [
    {
     "name": "stdout",
     "output_type": "stream",
     "text": [
      "              price\n",
      "timestamp          \n",
      "2025-01-01  135.975\n"
     ]
    }
   ],
   "source": [
    "# Simulated minute-level stock prices\n",
    "stock_data = {\n",
    "    'timestamp': pd.date_range('2025-01-01', periods=1440, freq='min'),  # One day of minute data\n",
    "    'price': [100 + i * 0.05 for i in range(1440)]  # Trend upward by 0.05 per minute\n",
    "}\n",
    "\n",
    "df = pd.DataFrame(stock_data)\n",
    "df['timestamp'] = pd.to_datetime(df['timestamp'])\n",
    "df.set_index('timestamp', inplace=True)\n",
    "\n",
    "# Resample to daily mean\n",
    "daily_avg_price = df.resample('D').mean()\n",
    "\n",
    "print(daily_avg_price)"
   ]
  },
  {
   "cell_type": "markdown",
   "id": "9bea7cc9-5034-49cc-bc24-5e592c788cb6",
   "metadata": {},
   "source": [
    "## **3. Website Traffic (Hourly to Weekly)**  \n",
    "### **Scenario:**  \n",
    "You’re tracking website visits every hour and want to calculate **weekly totals**."
   ]
  },
  {
   "cell_type": "code",
   "execution_count": 17,
   "id": "0b050ead-9d0d-4abc-b626-0884114618f1",
   "metadata": {},
   "outputs": [
    {
     "name": "stdout",
     "output_type": "stream",
     "text": [
      "            visits\n",
      "timestamp         \n",
      "2025-01-05   30900\n",
      "2025-01-12   43260\n",
      "2025-01-19   43260\n",
      "2025-01-26   11130\n"
     ]
    }
   ],
   "source": [
    "# Sample hourly website visits\n",
    "web_data = {\n",
    "    'timestamp': pd.date_range('2025-01-01', periods=500, freq='h'),  # Hourly for ~3 weeks\n",
    "    'visits': [200 + (x % 24) * 5 for x in range(500)]  # Simulate hourly peak visits\n",
    "}\n",
    "\n",
    "df = pd.DataFrame(web_data).set_index('timestamp')\n",
    "weekly_visits = df.resample('W').sum()\n",
    "\n",
    "print(weekly_visits)"
   ]
  },
  {
   "cell_type": "markdown",
   "id": "7e7d262c-7fc2-4823-9ca2-163da197995f",
   "metadata": {},
   "source": [
    "## **4. Retail Sales (Daily to Monthly)**  \n",
    "### **Scenario:**  \n",
    "A retail store tracks daily **sales**. You need to compute **monthly totals**."
   ]
  },
  {
   "cell_type": "code",
   "execution_count": 19,
   "id": "686a7c41-36cf-43ac-b296-94a3e48fa9c3",
   "metadata": {},
   "outputs": [
    {
     "name": "stdout",
     "output_type": "stream",
     "text": [
      "            sales\n",
      "date             \n",
      "2024-01-31  13650\n",
      "2024-02-29  13050\n",
      "2024-03-31  13650\n",
      "2024-04-30  13350\n",
      "2024-05-31  13660\n",
      "2024-06-30  13350\n",
      "2024-07-31  13670\n",
      "2024-08-31  13680\n",
      "2024-09-30  13350\n",
      "2024-10-31  13690\n",
      "2024-11-30  13350\n",
      "2024-12-31  13350\n"
     ]
    }
   ],
   "source": [
    "sales_data = {\n",
    "    'date': pd.date_range('2024-01-01', periods=365, freq='D'),\n",
    "    'sales': [300 + (x % 30) * 10 for x in range(365)]  # Varies by month\n",
    "}\n",
    "\n",
    "df = pd.DataFrame(sales_data).set_index('date')\n",
    "monthly_sales = df.resample('ME').sum()\n",
    "\n",
    "print(monthly_sales)"
   ]
  },
  {
   "cell_type": "markdown",
   "id": "2c44d382-d648-4560-a56a-1505454a78c2",
   "metadata": {},
   "source": [
    "## **5. Temperature Readings (Hourly to Daily)**  \n",
    "### **Scenario:**  \n",
    "Weather stations log hourly **temperature readings**. You need to compute the **daily average temperature**."
   ]
  },
  {
   "cell_type": "code",
   "execution_count": 21,
   "id": "805cb9c4-aa8e-454a-aaa2-101e9dc51ee9",
   "metadata": {},
   "outputs": [
    {
     "name": "stdout",
     "output_type": "stream",
     "text": [
      "            temperature_celsius\n",
      "timestamp                      \n",
      "2025-01-01                20.75\n",
      "2025-01-02                20.75\n",
      "2025-01-03                20.75\n"
     ]
    }
   ],
   "source": [
    "temperature_data = {\n",
    "    'timestamp': pd.date_range('2025-01-01', periods=72, freq='h'),\n",
    "    'temperature_celsius': [15 + (i % 24) * 0.5 for i in range(72)]\n",
    "}\n",
    "\n",
    "df = pd.DataFrame(temperature_data).set_index('timestamp')\n",
    "daily_avg_temp = df.resample('D').mean()\n",
    "\n",
    "print(daily_avg_temp)"
   ]
  },
  {
   "cell_type": "markdown",
   "id": "8ad587ec-d7cb-4c8b-9253-a95c94aed878",
   "metadata": {},
   "source": [
    "## **6. Traffic Sensors (Minute to Hourly)**  \n",
    "### **Scenario:**  \n",
    "A city monitors traffic flow at intersections every minute. You need to calculate **hourly averages**."
   ]
  },
  {
   "cell_type": "code",
   "execution_count": 23,
   "id": "9b23352a-2c83-4358-8f81-1e606756f603",
   "metadata": {},
   "outputs": [
    {
     "name": "stdout",
     "output_type": "stream",
     "text": [
      "                     vehicles_counted\n",
      "timestamp                            \n",
      "2025-01-01 00:00:00               9.5\n",
      "2025-01-01 01:00:00               9.5\n",
      "2025-01-01 02:00:00               9.5\n",
      "2025-01-01 03:00:00               9.5\n"
     ]
    }
   ],
   "source": [
    "traffic_data = {\n",
    "    'timestamp': pd.date_range('2025-01-01', periods=240, freq='min'),  # 240 minutes (4 hours)\n",
    "    'vehicles_counted': [5 + (x % 10) for x in range(240)]  # Random hourly trend\n",
    "}\n",
    "\n",
    "df = pd.DataFrame(traffic_data).set_index('timestamp')\n",
    "hourly_traffic = df.resample('h').mean()\n",
    "\n",
    "print(hourly_traffic)"
   ]
  },
  {
   "cell_type": "markdown",
   "id": "9ab2d9cf-30fa-484c-b0f3-eacb937b0402",
   "metadata": {},
   "source": [
    "## **7. Fitness Tracker Data (Seconds to Hours)**  \n",
    "### **Scenario:**  \n",
    "A fitness tracker records **steps** every second. You need to calculate **hourly totals**."
   ]
  },
  {
   "cell_type": "code",
   "execution_count": 25,
   "id": "be076b69-1a3a-49d1-ace2-829a1c2cfd8a",
   "metadata": {},
   "outputs": [
    {
     "name": "stdout",
     "output_type": "stream",
     "text": [
      "             steps\n",
      "timestamp         \n",
      "2025-01-01  109800\n"
     ]
    }
   ],
   "source": [
    "fitness_data = {\n",
    "    'timestamp': pd.date_range('2025-01-01', periods=3600, freq='s'),  # 1 hour of data (every second)\n",
    "    'steps': [1 + (x % 60) for x in range(3600)]  # Steps per second\n",
    "}\n",
    "\n",
    "df = pd.DataFrame(fitness_data).set_index('timestamp')\n",
    "hourly_steps = df.resample('h').sum()\n",
    "\n",
    "print(hourly_steps)"
   ]
  },
  {
   "cell_type": "markdown",
   "id": "3028f31b-40c8-4f13-9a58-df7a3347801b",
   "metadata": {},
   "source": [
    "## **8. Call Center Data (Hourly to Daily)**  \n",
    "### **Scenario:**  \n",
    "A call center logs the **number of calls** received hourly. You need to compute the **daily totals**."
   ]
  },
  {
   "cell_type": "code",
   "execution_count": 27,
   "id": "82fd285b-d8f3-4a5f-b031-f386aa5b690b",
   "metadata": {},
   "outputs": [
    {
     "name": "stdout",
     "output_type": "stream",
     "text": [
      "            calls_received\n",
      "timestamp                 \n",
      "2025-01-01             372\n",
      "2025-01-02             372\n",
      "2025-01-03             372\n",
      "2025-01-04             372\n",
      "2025-01-05              46\n"
     ]
    }
   ],
   "source": [
    "call_data = {\n",
    "    'timestamp': pd.date_range('2025-01-01', periods=100, freq='h'),  # ~4 days\n",
    "    'calls_received': [10 + (x % 12) for x in range(100)]  # Pattern of calls\n",
    "}\n",
    "\n",
    "df = pd.DataFrame(call_data).set_index('timestamp')\n",
    "daily_calls = df.resample('D').sum()\n",
    "\n",
    "print(daily_calls)"
   ]
  },
  {
   "cell_type": "markdown",
   "id": "573935f9-a5d5-4d30-99fb-87ceef17df79",
   "metadata": {},
   "source": [
    "## **9. Water Consumption (Daily to Monthly)**  \n",
    "### **Scenario:**  \n",
    "A water utility company records daily **water usage**. You need to calculate **monthly totals**."
   ]
  },
  {
   "cell_type": "code",
   "execution_count": 29,
   "id": "140789e5-bb0b-4ee4-90cf-1dd39459abe7",
   "metadata": {},
   "outputs": [
    {
     "name": "stdout",
     "output_type": "stream",
     "text": [
      "            liters_used\n",
      "date                   \n",
      "2025-01-31        52750\n",
      "2025-02-28        48300\n",
      "2025-03-31        54200\n",
      "2025-04-30        51750\n",
      "2025-05-31        52750\n",
      "2025-06-30        51750\n",
      "2025-07-31        52800\n",
      "2025-08-31        52850\n",
      "2025-09-30        51750\n",
      "2025-10-31        52900\n",
      "2025-11-30        51750\n",
      "2025-12-31        52950\n"
     ]
    }
   ],
   "source": [
    "water_data = {\n",
    "    'date': pd.date_range('2025-01-01', periods=365, freq='D'),\n",
    "    'liters_used': [1000 + (x % 30) * 50 for x in range(365)]  # Monthly pattern\n",
    "}\n",
    "\n",
    "df = pd.DataFrame(water_data).set_index('date')\n",
    "monthly_water_usage = df.resample('ME').sum()\n",
    "\n",
    "print(monthly_water_usage)"
   ]
  },
  {
   "cell_type": "markdown",
   "id": "ebe701d5-126c-476d-8a3e-03061c64b5d8",
   "metadata": {},
   "source": [
    "## **10. Heart Rate Monitor (Seconds to Minutes)**  \n",
    "### **Scenario:**  \n",
    "A heart rate monitor records **heartbeats** every second during a workout. You need to calculate **minute-level averages**."
   ]
  },
  {
   "cell_type": "code",
   "execution_count": 31,
   "id": "507e3ed8-4b24-4d04-ae83-58ad29660fd3",
   "metadata": {},
   "outputs": [
    {
     "name": "stdout",
     "output_type": "stream",
     "text": [
      "                     heart_rate\n",
      "timestamp                      \n",
      "2025-01-01 10:00:00        74.5\n",
      "2025-01-01 10:01:00        74.5\n",
      "2025-01-01 10:02:00        74.5\n",
      "2025-01-01 10:03:00        74.5\n",
      "2025-01-01 10:04:00        74.5\n"
     ]
    }
   ],
   "source": [
    "heart_rate_data = {\n",
    "    'timestamp': pd.date_range('2025-01-01 10:00', periods=300, freq='s'),  # 5 minutes\n",
    "    'heart_rate': [70 + (x % 10) for x in range(300)]  # Small variations in heart rate\n",
    "}\n",
    "\n",
    "df = pd.DataFrame(heart_rate_data).set_index('timestamp')\n",
    "minute_avg_heart_rate = df.resample('min').mean()\n",
    "\n",
    "print(minute_avg_heart_rate)"
   ]
  },
  {
   "cell_type": "markdown",
   "id": "76bfcae3-b81c-41ee-b71e-c6a8f3ad8f12",
   "metadata": {},
   "source": [
    "### **Conclusion:**  \n",
    "These **10 hands-on labs** cover scenarios from smart homes to fitness trackers and stock prices. They demonstrate how to:\n",
    "1. Convert timestamps using `pd.to_datetime()`.\n",
    "2. Set datetime indexes.\n",
    "3. Resample and aggregate data to different frequencies."
   ]
  },
  {
   "cell_type": "code",
   "execution_count": null,
   "id": "48f8ca4c-bb12-4ae8-9b17-fcc71fd8c29e",
   "metadata": {},
   "outputs": [],
   "source": []
  }
 ],
 "metadata": {
  "kernelspec": {
   "display_name": "Python 3 (ipykernel)",
   "language": "python",
   "name": "python3"
  },
  "language_info": {
   "codemirror_mode": {
    "name": "ipython",
    "version": 3
   },
   "file_extension": ".py",
   "mimetype": "text/x-python",
   "name": "python",
   "nbconvert_exporter": "python",
   "pygments_lexer": "ipython3",
   "version": "3.11.10"
  }
 },
 "nbformat": 4,
 "nbformat_minor": 5
}
